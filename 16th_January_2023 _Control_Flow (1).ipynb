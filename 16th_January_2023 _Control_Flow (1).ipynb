{
 "cells": [
  {
   "cell_type": "code",
   "execution_count": 3,
   "id": "240707da-5c0d-462d-80ff-7ef6088d0d30",
   "metadata": {},
   "outputs": [],
   "source": [
    "# CONTROL FLOW Basic If-Else Statments:"
   ]
  },
  {
   "cell_type": "code",
   "execution_count": 2,
   "id": "abeda9e4-1df0-43bb-ae79-9a82835a8de6",
   "metadata": {},
   "outputs": [
    {
     "name": "stdin",
     "output_type": "stream",
     "text": [
      "Enter a number:  5\n"
     ]
    },
    {
     "name": "stdout",
     "output_type": "stream",
     "text": [
      "The number is positive.\n"
     ]
    }
   ],
   "source": [
    "# 1. Write a Python program to check if a given number is positive or negative.\n",
    "\n",
    "num = float(input(\"Enter a number: \"))\n",
    "# check\n",
    "if num > 0:\n",
    "    print (\"The number is positive.\")\n",
    "elif num < 0:\n",
    "    print (\"The number is negative.\")\n",
    "else :\n",
    "    print(\"The number is Zero.\")"
   ]
  },
  {
   "cell_type": "code",
   "execution_count": 4,
   "id": "213f2134-3ccd-47df-8894-8f4051476671",
   "metadata": {},
   "outputs": [
    {
     "name": "stdin",
     "output_type": "stream",
     "text": [
      "Enter your age: 20\n"
     ]
    },
    {
     "name": "stdout",
     "output_type": "stream",
     "text": [
      "You are eligible to vote.\n"
     ]
    }
   ],
   "source": [
    "# 2. Create a program that determines if a person is eligible to vote based on their age.\n",
    "\n",
    "age = int(input(\"Enter your age:\"))\n",
    "# Check \n",
    "if age >= 18:\n",
    "    print(\"You are eligible to vote.\")\n",
    "else:\n",
    "    print(\"You are not eligible to vote yet\")\n"
   ]
  },
  {
   "cell_type": "code",
   "execution_count": 5,
   "id": "0c75fdf7-ccfa-4558-8b5e-b2f0c15cb056",
   "metadata": {},
   "outputs": [
    {
     "name": "stdin",
     "output_type": "stream",
     "text": [
      "Enter the first number:  5342\n",
      "Enter the second number: 233245\n"
     ]
    },
    {
     "name": "stdout",
     "output_type": "stream",
     "text": [
      "The maxinum of 5342.0 and 233245.0 is: 233245.0\n"
     ]
    }
   ],
   "source": [
    "#3. Develop a program to find the maximum of two numbers using if-else statements.\n",
    "\n",
    "num1 = float(input(\"Enter the first number: \"))\n",
    "num2 = float(input(\"Enter the second number:\"))\n",
    "#Compare\n",
    "if num1 > num2:\n",
    "    max_num = num1\n",
    "    \n",
    "else:\n",
    "    max_num = num2\n",
    "    \n",
    "print(\"The maxinum of {} and {} is: {}\". format (num1, num2, max_num))\n",
    "    "
   ]
  },
  {
   "cell_type": "code",
   "execution_count": 6,
   "id": "cf6a3613-978d-4551-a773-700a13811812",
   "metadata": {},
   "outputs": [
    {
     "name": "stdin",
     "output_type": "stream",
     "text": [
      "Enter a year: 2022\n"
     ]
    },
    {
     "name": "stdout",
     "output_type": "stream",
     "text": [
      "2022 is not a leap year.\n"
     ]
    }
   ],
   "source": [
    "# 4. Write a Python script to classify a given year as a leap year or not.\n",
    "year = int(input(\"Enter a year:\"))\n",
    "\n",
    "if (year % 4 == 0 and year % 100 != 0) or (year % 400 == 0):\n",
    "    print(\"{} is a leap year. \". format(year))\n",
    "else:\n",
    "    print(\"{} is not a leap year.\". format (year))"
   ]
  },
  {
   "cell_type": "code",
   "execution_count": 10,
   "id": "67094a98-3b46-4032-adb9-0e0f2a643b5e",
   "metadata": {},
   "outputs": [
    {
     "name": "stdin",
     "output_type": "stream",
     "text": [
      "Enter a character: a\n"
     ]
    },
    {
     "name": "stdout",
     "output_type": "stream",
     "text": [
      "a is a vowel.\n"
     ]
    }
   ],
   "source": [
    "# 5. Create a program that checks whether a character is a vowel or a consonant.\n",
    "char = input(\"Enter a character:\")\n",
    "# convert\n",
    "char = char.lower()\n",
    "# check \n",
    "if len(char) == 1 and char.isalpha():\n",
    "    \n",
    "    if char in ['a','e','i','o','u']:\n",
    "        print(\"{} is a vowel.\". format(char))\n",
    "else:\n",
    "    print(\"please enter a valid single alphabet character.\")\n"
   ]
  },
  {
   "cell_type": "code",
   "execution_count": 11,
   "id": "1595a594-8028-4235-9382-80f73f69677a",
   "metadata": {},
   "outputs": [
    {
     "name": "stdin",
     "output_type": "stream",
     "text": [
      "Enter a number: 234\n"
     ]
    },
    {
     "name": "stdout",
     "output_type": "stream",
     "text": [
      "234 is an even number.\n"
     ]
    }
   ],
   "source": [
    "# 6. Implement a program to determine whether a given number is even or odd.\n",
    "num = int(input(\"Enter a number:\"))\n",
    "#check num is even or odd\n",
    "if num % 2 == 0:\n",
    "    print(\"{} is an even number.\". format(num))\n",
    "else:\n",
    "    print(\"{} is an odd number.\". format(num))"
   ]
  },
  {
   "cell_type": "code",
   "execution_count": 2,
   "id": "c90f3fb3-fb73-4e1f-bd5f-f425da149247",
   "metadata": {},
   "outputs": [
    {
     "name": "stdin",
     "output_type": "stream",
     "text": [
      "Enter a number: 23434.343\n"
     ]
    },
    {
     "name": "stdout",
     "output_type": "stream",
     "text": [
      "The absolute value of 23434.343 is : 23434.343\n"
     ]
    }
   ],
   "source": [
    "# 7. Write a Python function to calculate the absolute value of a number without using the `abs()` function.\n",
    "\n",
    "def absolute_value (number):\n",
    "    if number < 0:\n",
    "        return -number\n",
    "    else:\n",
    "        return number\n",
    "\n",
    "num = float(input(\"Enter a number:\"))\n",
    "# Calculate\n",
    "result = absolute_value(num)\n",
    "print(\"The absolute value of {} is : {}\".format(num, result))"
   ]
  },
  {
   "cell_type": "code",
   "execution_count": 3,
   "id": "1b30b2b0-023b-4867-993d-5fcb0ea7394a",
   "metadata": {},
   "outputs": [
    {
     "name": "stdin",
     "output_type": "stream",
     "text": [
      "Enter the first number:  5\n",
      "Enter the second number: 3\n",
      "Enter the third number: 8\n"
     ]
    },
    {
     "name": "stdout",
     "output_type": "stream",
     "text": [
      "The largest number among 5.0, 3.0, and 8.0 is: 8.0\n"
     ]
    }
   ],
   "source": [
    " # 8. Develop a program that determines the largest of three given numbers using if-else statements.\n",
    "num1 = float(input(\"Enter the first number: \"))\n",
    "num2 = float(input(\"Enter the second number:\"))\n",
    "num3 = float(input(\"Enter the third number:\"))\n",
    "\n",
    "# compare\n",
    "\n",
    "if num1 >= num2 and num1 >= num3:\n",
    "    largest_num = num1\n",
    "elif num2 >= num1 and num2 >= num3:\n",
    "    largest_num = num2\n",
    "else:\n",
    "    largest_num = num3\n",
    "# print\n",
    "print(\"The largest number among {}, {}, and {} is: {}\". format(num1, num2, num3, largest_num))"
   ]
  },
  {
   "cell_type": "code",
   "execution_count": 4,
   "id": "7698b2a7-7f47-4022-8cc1-6ad41a35061c",
   "metadata": {},
   "outputs": [
    {
     "name": "stdin",
     "output_type": "stream",
     "text": [
      "Enter a string:  deepak\n"
     ]
    },
    {
     "name": "stdout",
     "output_type": "stream",
     "text": [
      "deepak is not a palindrome.\n"
     ]
    }
   ],
   "source": [
    "# 9. Create a program that checks if a given string is a palindrome.\n",
    "\n",
    "def is_palindrome(s):\n",
    "    s = s.replace(\" \", \"\").lower()\n",
    "    \n",
    "    return s == s[::-1]\n",
    "# Ger user input for the string\n",
    "string_input = input(\"Enter a string: \")\n",
    "# check\n",
    "if is_palindrome(string_input):\n",
    "    print(\"{} is a palindrome.\".format(string_input))\n",
    "else:\n",
    "    print(\"{} is not a palindrome.\". format(string_input))"
   ]
  },
  {
   "cell_type": "code",
   "execution_count": 7,
   "id": "a202d1bd-a9fa-4b26-84f5-236e81c45287",
   "metadata": {},
   "outputs": [
    {
     "name": "stdin",
     "output_type": "stream",
     "text": [
      "Enter the student's score:  80\n"
     ]
    },
    {
     "name": "stdout",
     "output_type": "stream",
     "text": [
      "The student's grade is: B\n"
     ]
    }
   ],
   "source": [
    "# 10. Write a Python program to calculate the grade based on a student's score.\n",
    "\n",
    "score = float(input(\"Enter the student's score: \"))\n",
    "# determine the greade\n",
    "if 90 <= score <= 100:\n",
    "    grade = 'A'\n",
    "elif 80 <= score < 90:\n",
    "    grade = 'B'\n",
    "elif 70 <= score < 80:\n",
    "    grade = 'C'\n",
    "    \n",
    "else:\n",
    "    grade = 'invalid socre, please enter a score between a and 100.'\n",
    "    \n",
    "print(\"The student's grade is:\", grade)\n",
    "    \n"
   ]
  },
  {
   "cell_type": "code",
   "execution_count": 8,
   "id": "399df2ea-6b50-4007-b94e-325c3eeb30ae",
   "metadata": {},
   "outputs": [],
   "source": [
    "# Nested If-Else Statements:"
   ]
  },
  {
   "cell_type": "code",
   "execution_count": 10,
   "id": "7eadb714-18f8-431e-9568-1b48607697f6",
   "metadata": {},
   "outputs": [
    {
     "name": "stdin",
     "output_type": "stream",
     "text": [
      "Enter the first number:  5\n",
      "Enter the second number: 2\n",
      "Enter the third number: 7\n"
     ]
    },
    {
     "name": "stdout",
     "output_type": "stream",
     "text": [
      "The largest number among 5.0, 2.0, and 7.0 is: 7.0\n"
     ]
    }
   ],
   "source": [
    "# 11. Write a program to find the largest among three numbers using nested if-else statements.\n",
    "num1 = float(input(\"Enter the first number: \"))\n",
    "num2 = float(input(\"Enter the second number:\"))\n",
    "num3 = float(input(\"Enter the third number:\"))\n",
    "# Nested if else statments\n",
    "if num1 >= num2:\n",
    "    if num1 >= num3:\n",
    "        largest_num = num1\n",
    "    else: \n",
    "        largest_num = num3\n",
    "else:\n",
    "    if num2 >= num3:\n",
    "        largest_num = num2\n",
    "    else:\n",
    "        largest_num = num3\n",
    "#print\n",
    "print(\"The largest number among {}, {}, and {} is: {}\". format(num1, num2, num3, largest_num))"
   ]
  },
  {
   "cell_type": "code",
   "execution_count": 12,
   "id": "362c0a5a-0615-48a6-ae16-0a64b250adfb",
   "metadata": {},
   "outputs": [
    {
     "name": "stdin",
     "output_type": "stream",
     "text": [
      "Enter the length of the first side:  12\n",
      "Enter the length of the second side:  10\n",
      "Enter the length of the third side:  15\n"
     ]
    },
    {
     "name": "stdout",
     "output_type": "stream",
     "text": [
      "The triangle is a scalene triangle.\n"
     ]
    }
   ],
   "source": [
    "# 12. Implement a program to determine if a triangle is equilateral, isosceles, or scalene.\n",
    "\n",
    "# Get user input for the lengths of the three sides of the triangle\n",
    "side1 = float(input(\"Enter the length of the first side: \"))\n",
    "side2 = float(input(\"Enter the length of the second side: \"))\n",
    "side3 = float(input(\"Enter the length of the third side: \"))\n",
    "\n",
    "# Check if it forms a valid triangle\n",
    "if side1 + side2 > side3 and side1 + side3 > side2 and side2 + side3 > side1:\n",
    "    # Determine the type of triangle\n",
    "    if side1 == side2 == side3:\n",
    "        triangle_type = \"equilateral\"\n",
    "    elif side1 == side2 or side1 == side3 or side2 == side3:\n",
    "        triangle_type = \"isosceles\"\n",
    "    else:\n",
    "        triangle_type = \"scalene\"\n",
    "    \n",
    "    # Print the type of triangle\n",
    "    print(\"The triangle is a {} triangle.\".format(triangle_type))\n",
    "else:\n",
    "    print(\"Invalid input. The given sides do not form a valid triangle.\")\n"
   ]
  },
  {
   "cell_type": "code",
   "execution_count": 13,
   "id": "6b3a8f25-95ee-4d5e-8a9c-f8f0aa5864d4",
   "metadata": {},
   "outputs": [
    {
     "name": "stdin",
     "output_type": "stream",
     "text": [
      "Enter a year:  2015\n"
     ]
    },
    {
     "name": "stdout",
     "output_type": "stream",
     "text": [
      "2015 is not a leap year and not a century year.\n"
     ]
    }
   ],
   "source": [
    "# 13. Develop a program that checks if a year is a leap year and also if it is a century year.\n",
    "year = int(input(\"Enter a year: \"))\n",
    "\n",
    "#Check if the year is a leap year\n",
    "is_leap_year = (year % 4 == 0 and year % 100 !=0) or (year % 400 == 0)\n",
    "# check if the year is a centruy year\n",
    "is_century_year = year % 100 == 0\n",
    "\n",
    "#print\n",
    "if is_leap_year:\n",
    "    if is_century_year:\n",
    "        print(\"{} is a leap year and a century year. \".format(year))\n",
    "    else:\n",
    "        print(\"{} is a leap year but not a century year.\".format(year))\n",
    "else:\n",
    "    if is_century_year:\n",
    "        print(\"{} is not a leap year but is a century year.\".format(year))\n",
    "    else:\n",
    "         print(\"{} is not a leap year and not a century year.\".format(year))"
   ]
  },
  {
   "cell_type": "code",
   "execution_count": 15,
   "id": "21f668bd-2bdf-4a61-b03d-397751b8ee62",
   "metadata": {},
   "outputs": [
    {
     "name": "stdin",
     "output_type": "stream",
     "text": [
      "Enter a number:  30\n"
     ]
    },
    {
     "name": "stdout",
     "output_type": "stream",
     "text": [
      "The number is positive.\n"
     ]
    }
   ],
   "source": [
    "#14. Write a Python script to determine if a number is positive, negative, or zero.\n",
    "num = float(input(\"Enter a number: \"))\n",
    "\n",
    "#Check\n",
    "if num > 0:\n",
    "    print(\"The number is positive.\")\n",
    "elif num < 0:\n",
    "    print(\"The number is negative.\")\n",
    "else:\n",
    "    print(\"The number is zero.\")"
   ]
  },
  {
   "cell_type": "code",
   "execution_count": 16,
   "id": "09fe20da-00a1-4bc6-9356-a28a3d979fa4",
   "metadata": {},
   "outputs": [
    {
     "name": "stdin",
     "output_type": "stream",
     "text": [
      "Enter the person's age:  45\n"
     ]
    },
    {
     "name": "stdout",
     "output_type": "stream",
     "text": [
      "The person is not a teenager.\n"
     ]
    }
   ],
   "source": [
    "# 15. Create a program to check if a person is a teenager (between 13 and 19 years old).\n",
    "age = int(input(\"Enter the person's age: \"))\n",
    "#check if the person is a teenager.\"\n",
    "if 13 <= age <= 19:\n",
    "    print(\"The person is a teenager.\")\n",
    "else:\n",
    "    print(\"The person is not a teenager.\")"
   ]
  },
  {
   "cell_type": "code",
   "execution_count": 17,
   "id": "85d2c7ce-2cb9-4dc4-873b-94ed66cad20c",
   "metadata": {},
   "outputs": [
    {
     "name": "stdin",
     "output_type": "stream",
     "text": [
      "Enter the measure of the angle in degreesL  25\n"
     ]
    },
    {
     "name": "stdout",
     "output_type": "stream",
     "text": [
      "The angle is acute.\n"
     ]
    }
   ],
   "source": [
    "# 16. Develop a program that determines the type of angle based on its measure (acute, obtuse, or right).\n",
    "angle_measure = float(input(\"Enter the measure of the angle in degreesL \"))\n",
    "# check\n",
    "if 0 < angle_measure < 90:\n",
    "    angle_tyoe = \"acute\"\n",
    "elif angle_measure == 90:\n",
    "    angle_type = \"right\"\n",
    "elif 90 < angle_measure < 180:\n",
    "    angle_type = \"obtuse\"\n",
    "else:\n",
    "    angle_type = \"invalid (angle measure should be between 0 and 180 degrees)\"\n",
    "#print\n",
    "print(\"The angle is\", angle_tyoe +\".\")\n"
   ]
  },
  {
   "cell_type": "code",
   "execution_count": 3,
   "id": "c63531f6-933a-4a94-86ab-5145d4f6853c",
   "metadata": {},
   "outputs": [
    {
     "name": "stdout",
     "output_type": "stream",
     "text": [
      "real and different roots\n",
      "2.0\n",
      "-12.0\n"
     ]
    }
   ],
   "source": [
    "#17. Write a Python program to calculate the roots of a quadratic equation..\n",
    "\n",
    "\n",
    "# function for finding roots\n",
    "def equationroots( a, b, c): \n",
    "\n",
    "\t# calculating discriminant using formula\n",
    "\tdis = b * b - 4 * a * c \n",
    "\tsqrt_val = math.sqrt(abs(dis)) \n",
    "\t\n",
    "\t# checking condition for discriminant\n",
    "\tif dis > 0: \n",
    "\t\tprint(\"real and different roots\") \n",
    "\t\tprint((-b + sqrt_val)/(2 * a)) \n",
    "\t\tprint((-b - sqrt_val)/(2 * a)) \n",
    "\t\n",
    "\telif dis == 0: \n",
    "\t\tprint(\"real and same roots\") \n",
    "\t\tprint(-b / (2 * a)) \n",
    "\t\n",
    "\t# when discriminant is less than 0\n",
    "\telse:\n",
    "\t\tprint(\"Complex Roots\") \n",
    "\t\tprint(- b / (2 * a), + i, sqrt_val) \n",
    "\t\tprint(- b / (2 * a), - i, sqrt_val) \n",
    "\n",
    "# Driver Program \n",
    "a = 1\n",
    "b = 10\n",
    "c = -24\n",
    "\n",
    "# If a is 0, then incorrect equation\n",
    "if a == 0: \n",
    "\t\tprint(\"Input correct quadratic equation\") \n",
    "\n",
    "else:\n",
    "\tequationroots(a, b, c)\n"
   ]
  },
  {
   "cell_type": "code",
   "execution_count": 9,
   "id": "b9b827cd-0aa3-4f1a-a0ba-9b9038838920",
   "metadata": {},
   "outputs": [
    {
     "name": "stdin",
     "output_type": "stream",
     "text": [
      "Enter a number(1 for Monday, 2 for Tuesday,etc.):  3\n"
     ]
    },
    {
     "name": "stdout",
     "output_type": "stream",
     "text": [
      "The day of the week is: Wednesday\n"
     ]
    }
   ],
   "source": [
    "# 18. Implement a program to determine the day of the week based on a user-provided number (1 for Monday, 2 \n",
    "day_number = int(input(\"Enter a number(1 for Monday, 2 for Tuesday,etc.): \"))\n",
    "\n",
    "if 1 <= day_number <=7:\n",
    "    days_of_week = [\"monday\", \"Tuesday\", \"Wednesday\", \"Thrusday\", \"Friday\", \"Saturday\", \"Sunday\"]\n",
    "    day_name  = days_of_week[day_number -1]\n",
    "    \n",
    "    print(\"The day of the week is:\", day_name)\n",
    "else:\n",
    "    print(\"Invalid input. Please enter a number between 1 and 7.\")"
   ]
  },
  {
   "cell_type": "code",
   "execution_count": 10,
   "id": "f504198c-8fd6-4592-b574-8a5a7b905932",
   "metadata": {},
   "outputs": [
    {
     "name": "stdin",
     "output_type": "stream",
     "text": [
      "Enter a year:  2013\n"
     ]
    },
    {
     "name": "stdout",
     "output_type": "stream",
     "text": [
      "2013 is not a leap year.\n"
     ]
    }
   ],
   "source": [
    "#19. Create a program that determines if a year is a leap year and also if it is evenly divisible by 400. \n",
    "\n",
    "year = int(input(\"Enter a year: \"))\n",
    "# Chekc\n",
    "is_leap_year = (year % 4 == 0 and year % 100 != 0) or (year % 400 == 0)\n",
    "\n",
    "divisible_by_400 = year % 400 == 0\n",
    "#print\n",
    "if is_leap_year:\n",
    "    print(\"{} is a leap year.\".format(year))\n",
    "    if divisible_by_400:\n",
    "        print(\"It is also evenly divisible by 400.\")\n",
    "    else: \n",
    "        print(\"But it is not evenly divisible by 400. \")\n",
    "else:\n",
    "    print(\"{} is not a leap year.\".format(year))"
   ]
  },
  {
   "cell_type": "code",
   "execution_count": 13,
   "id": "43888979-639c-4df8-92a1-e3c3c23dbf69",
   "metadata": {},
   "outputs": [
    {
     "name": "stdin",
     "output_type": "stream",
     "text": [
      "Enter a number:  3\n"
     ]
    },
    {
     "name": "stdout",
     "output_type": "stream",
     "text": [
      "3 is a prime number.\n"
     ]
    }
   ],
   "source": [
    "# 20. Develop a program that checks if a given number is prime or not using nested if-else statements.\n",
    "# Get user input for the number\n",
    "num = int(input(\"Enter a number: \"))\n",
    "\n",
    "# Check if the number is prime\n",
    "if num > 1:\n",
    "    # Check for factors up to the square root of the number\n",
    "    for i in range(2, int(num**0.5) + 1):\n",
    "        if num % i == 0:\n",
    "            print(\"{} is not a prime number.\".format(num))\n",
    "            break\n",
    "    else:\n",
    "        print(\"{} is a prime number.\".format(num))\n",
    "else:\n",
    "    print(\"{} is not a prime number.\".format(num))\n"
   ]
  },
  {
   "cell_type": "code",
   "execution_count": 14,
   "id": "8fccf869-0169-4a96-bdc0-02cc70e51152",
   "metadata": {},
   "outputs": [],
   "source": [
    "# Elif Statements:\n",
    "\n",
    "#21. Write a Python program to assign grades based on different ranges of scores using elif statements."
   ]
  },
  {
   "cell_type": "code",
   "execution_count": 18,
   "id": "30668f65-1ec7-40ed-8c1f-a196d7f302d5",
   "metadata": {},
   "outputs": [
    {
     "name": "stdin",
     "output_type": "stream",
     "text": [
      "Enter the student's score:  75\n"
     ]
    },
    {
     "name": "stdout",
     "output_type": "stream",
     "text": [
      "The student's grade is: C\n"
     ]
    }
   ],
   "source": [
    "score = float(input(\"Enter the student's score: \"))\n",
    "\n",
    "if 90 <= score <= 100:\n",
    "    grade = 'A'\n",
    "elif 80 <= score <= 90:\n",
    "    grade = 'B'\n",
    "elif 70 <= score <= 80:\n",
    "    grade =  'C'\n",
    "print(\"The student's grade is:\", grade)"
   ]
  },
  {
   "cell_type": "code",
   "execution_count": 26,
   "id": "b47faf7e-96c1-476b-861d-9535fd07f192",
   "metadata": {},
   "outputs": [
    {
     "name": "stdin",
     "output_type": "stream",
     "text": [
      "Enter the first angle of the triangle:  10\n",
      "Enter the second angle of the triangle:  15\n",
      "Enter the third angle of the triangle:  20\n"
     ]
    },
    {
     "name": "stdout",
     "output_type": "stream",
     "text": [
      "Invalid input. The entered angles do not form a valid triangle. \n"
     ]
    }
   ],
   "source": [
    "# 22. Implement a program to determine the type of a triangle based on its angles.\n",
    "angle1 = float(input(\"Enter the first angle of the triangle: \"))\n",
    "angle2 = float(input(\"Enter the second angle of the triangle: \"))\n",
    "angle3 = float(input(\"Enter the third angle of the triangle: \"))\n",
    "\n",
    "#check\n",
    "if angle1 + angle2 + angle3 == 180:\n",
    "    if angle1 == angle2 == angle3 == 60:\n",
    "        triangle_type = \"equilateral\"\n",
    "    elif angle1 == angle2 or angle1 == angle3 or angle2 == angle3:\n",
    "        triangle_type = \"isosceles\"\n",
    "    else:\n",
    "        triangle_type = \"scalene\"\n",
    "    print(\"The triangle is a {} triangle. \".format(triangle_type))\n",
    "elif angle1 <= 0 or angle2 <= 0 or angle3 <= 0:\n",
    "    print(\"Invalid input. angle must be grateer than zero.\")\n",
    "else:\n",
    "    print(\"Invalid input. The entered angles do not form a valid triangle. \")"
   ]
  },
  {
   "cell_type": "code",
   "execution_count": 28,
   "id": "ab502466-541d-4f87-8152-2987f4154bd0",
   "metadata": {},
   "outputs": [
    {
     "name": "stdin",
     "output_type": "stream",
     "text": [
      "Enter your height in meters:  1.67\n",
      "Enter your weight in kilograms:  64\n"
     ]
    },
    {
     "name": "stdout",
     "output_type": "stream",
     "text": [
      "yout BMI is 22.95, which categorized as normal.\n"
     ]
    }
   ],
   "source": [
    "# 23. Develop a program to categorize a given person's BMI into underweight, normal, overweight, or obese using\n",
    "#elif statements.\n",
    "height = float(input(\"Enter your height in meters: \"))\n",
    "weight = float(input(\"Enter your weight in kilograms: \"))\n",
    "#calculate BMI\n",
    "bmi = weight / (height ** 2)\n",
    "\n",
    "if bmi < 18.5:\n",
    "    category = \"underweight\"\n",
    "elif 18.5 <= bmi < 24.9:\n",
    "    category = \"normal\"\n",
    "elif 25 <= bmi < 29.9:\n",
    "    category = \"overweight\"\n",
    "else:\n",
    "    category = \"obese\"\n",
    "    \n",
    "print(\"yout BMI is {:.2f}, which categorized as {}.\".format(bmi, category))"
   ]
  },
  {
   "cell_type": "code",
   "execution_count": 29,
   "id": "afa7c3e7-0a7f-4567-aca1-098c25b13cd5",
   "metadata": {},
   "outputs": [
    {
     "name": "stdin",
     "output_type": "stream",
     "text": [
      "Enter a numberL  25\n"
     ]
    },
    {
     "name": "stdout",
     "output_type": "stream",
     "text": [
      "The number is positive.\n"
     ]
    }
   ],
   "source": [
    "# 24. Create a program that determines whether a given number is positive, negative, or zero using elif statments\n",
    "\n",
    "num = float(input(\"Enter a numberL \"))\n",
    "\n",
    "if num > 0:\n",
    "    print(\"The number is positive.\")\n",
    "elif num < 0:\n",
    "    print(\"The number is negative.\")\n",
    "else:\n",
    "    print(\"The number is zero.\")\n"
   ]
  },
  {
   "cell_type": "code",
   "execution_count": 31,
   "id": "ec6b7e76-872a-412c-b026-c9f36227f87c",
   "metadata": {},
   "outputs": [
    {
     "name": "stdin",
     "output_type": "stream",
     "text": [
      "Enter a character: !\n"
     ]
    },
    {
     "name": "stdout",
     "output_type": "stream",
     "text": [
      "! is a special character,\n"
     ]
    }
   ],
   "source": [
    "#25. Write a Python script to determine the type of a character (uppercase, lowercase, or special) using elif Statments\n",
    "\n",
    "char = input(\"Enter a character:\")\n",
    "\n",
    "if char.isalpha():\n",
    "    if char.isupper():\n",
    "        print(\"{} is an uppercase letter. \".format(char))\n",
    "    elif char.islower():\n",
    "        print(\"{} is an lowercase letter. \".format(char))\n",
    "else:\n",
    "    print(\"{} is a special character,\".format(char))\n"
   ]
  },
  {
   "cell_type": "code",
   "execution_count": 34,
   "id": "a977ef2a-1141-43e0-9fed-18c362a8cd92",
   "metadata": {},
   "outputs": [
    {
     "name": "stdin",
     "output_type": "stream",
     "text": [
      "Enter the purchase amount: 780\n"
     ]
    },
    {
     "name": "stdout",
     "output_type": "stream",
     "text": [
      "Original price: $780.00\n",
      "Discount percentage: 10%\n",
      "Discount $78.00\n",
      "Discounted price: $702.00\n"
     ]
    }
   ],
   "source": [
    "# 26. Implement a program to calculate the discounted price based on different purchase amounts using elif.\n",
    "purchase_amount = float(input(\"Enter the purchase amount:\"))\n",
    "\n",
    "if purchase_amount < 100:\n",
    "    discount_percentage = 0\n",
    "elif purchase_amount < 500:\n",
    "    discount_percentage = 5\n",
    "elif purchase_amount < 1000:\n",
    "    discount_percentage = 10\n",
    "else:\n",
    "    discount_percentage = 15\n",
    "\n",
    "# calculate\n",
    "discount = (discount_percentage / 100) * purchase_amount\n",
    "discounted_price = purchase_amount - discount\n",
    "#print\n",
    "print(\"Original price: ${:.2f}\".format(purchase_amount))\n",
    "print(\"Discount percentage: {}%\".format(discount_percentage))\n",
    "print(\"Discount ${:.2f}\".format(discount))\n",
    "print(\"Discounted price: ${:.2f}\".format(discounted_price))"
   ]
  },
  {
   "cell_type": "code",
   "execution_count": 35,
   "id": "13ca0675-e4ec-409c-97f8-922ad57f98ae",
   "metadata": {},
   "outputs": [
    {
     "name": "stdin",
     "output_type": "stream",
     "text": [
      "Enter the electricity consumption in kilowatt - hours (kWh):  150\n"
     ]
    },
    {
     "name": "stdout",
     "output_type": "stream",
     "text": [
      "Electricity Consumption: 150.0 kWh\n",
      "Electricity Bill: $85.00\n"
     ]
    }
   ],
   "source": [
    "# 27. Develop a program to calculate the electricity bill based on different consumption slabs using elif statments \n",
    "\n",
    "consumption = float(input(\"Enter the electricity consumption in kilowatt - hours (kWh): \"))\n",
    "# electricity rates\n",
    "rate_slab1 = 0.5 \n",
    "rate_slab2 = 0.7\n",
    "rate_slab3 = 0.9\n",
    "\n",
    "total_cost = 0.0\n",
    "Consumed_units = 0.0\n",
    "\n",
    "# calculate the electricity bill\n",
    "if consumption <= 100:\n",
    "    total_cost = consumption * rate_slab1\n",
    "    consumed_units = consumption\n",
    "elif consumption <= 300:\n",
    "    total_cost = 100 * rate_slab1 +(consumption - 100) * rate_slab2\n",
    "    consumed_units = consumption\n",
    "else:\n",
    "    total_cost = 100 * rate_slab1 + 200 * rate_salb2 + (consumption - 300) *rate_slab3\n",
    "    consumed_units = consumption\n",
    "# print\n",
    "print(\"Electricity Consumption: {} kWh\".format(consumed_units))\n",
    "print(\"Electricity Bill: ${:.2f}\".format(total_cost))"
   ]
  },
  {
   "cell_type": "code",
   "execution_count": 38,
   "id": "56a65df4-30e0-4afe-bfe6-13d95ad13e2a",
   "metadata": {},
   "outputs": [
    {
     "name": "stdout",
     "output_type": "stream",
     "text": [
      "The quadrilateral is a rectangle.\n"
     ]
    }
   ],
   "source": [
    "# 28. Create a program to determine the type of quadrilateral based on its angles and sides using elif statments\n",
    "angle1 = 90\n",
    "angle2 = 90\n",
    "angle3 = 90\n",
    "angle4 = 90\n",
    "#side length\n",
    "side1 = 20\n",
    "side2 = 15\n",
    "side3 = 20\n",
    "side4 = 15\n",
    "\n",
    "if angle1 + angle2 + angle3 + angle4 == 360:\n",
    "    if side1 == side2 == side3 == side4:\n",
    "        print(\"The quadrilateral is a square. \")\n",
    "    elif side1 == side3 and side2 == side4:\n",
    "        print(\"The quadrilateral is a rectangle.\")\n",
    "    elif side1 == side2 == side3 or side2 == side3 == side4 or side3 == side4 == side1 or side4 == side1 == side2:\n",
    "        print(\"The quadrilateral is a parallelogram.\")\n",
    "    else:\n",
    "        print(\"The quadrilateral is a general quadrilateral.\")\n",
    "else:\n",
    "    print(\"Invalid input. The angles do not add up to 360 degrees. \")"
   ]
  },
  {
   "cell_type": "code",
   "execution_count": 40,
   "id": "00a49c91-016d-4192-bc8e-b38e42b8c0e1",
   "metadata": {},
   "outputs": [
    {
     "name": "stdin",
     "output_type": "stream",
     "text": [
      "Enter the month (e.g., January, Feburaru, etc. march\n"
     ]
    },
    {
     "name": "stdout",
     "output_type": "stream",
     "text": [
      "The season for march is Spring.\n"
     ]
    }
   ],
   "source": [
    "# 29. Write a Python script to determine the season based on a user-provided month using elif statements.\n",
    "month = input(\"Enter the month (e.g., January, Feburaru, etc.\")\n",
    "\n",
    "month_lower = month.lower()\n",
    "\n",
    "if month_lower in {\"december\", \"january\", \"Feburary\"}:\n",
    "    season = \"Winter\"\n",
    "elif month_lower in {\"march\", \"april\", \"may\"}:\n",
    "    season = \"Spring\"\n",
    "elif month_lower in {\"June\", \"July\", \"August\"}:\n",
    "    season = \"summer\"\n",
    "elif month_lower in {\"september\", \"october\", \"november\"}:\n",
    "    season = \"Fall\"\n",
    "else:\n",
    "    season = 'invalid month'\n",
    "\n",
    "print(\"The season for {} is {}.\".format(month, season))"
   ]
  },
  {
   "cell_type": "code",
   "execution_count": 46,
   "id": "2bfe50b0-a69a-4a87-8055-a4f67938c0fc",
   "metadata": {},
   "outputs": [
    {
     "name": "stdin",
     "output_type": "stream",
     "text": [
      "Enter the year:  2015\n",
      "Enter the month (e.g., January, Feburary,etc.  may\n"
     ]
    },
    {
     "name": "stdout",
     "output_type": "stream",
     "text": [
      "The year 2015 is a Common year.\n",
      "The month of may has 31 days.\n"
     ]
    }
   ],
   "source": [
    "# 30. Implement a program to determine the type of a year (leap or common) and month (30 or 31 days) using elif statments.\n",
    "year = int(input(\"Enter the year: \"))\n",
    "month = input(\"Enter the month (e.g., January, Feburary,etc. \")\n",
    "\n",
    "month_lower = month.lower()\n",
    "# Determine the type of the year (leap year)\n",
    "if (year % 4 == 0 and year % 100 != 0) or (year % 400 == 0):\n",
    "    year_type = \"leap\"\n",
    "else:\n",
    "    year_type = \"common\"\n",
    "# Determine the number of days in the month using elif statments\n",
    "if month_lower in {\"January\", \"march\", \"may\", \"July\", \"August\", \"october\", \"December\"}:\n",
    "    days_in_month = 31\n",
    "elif month_lower in {\"April\" ,\"June\",\"september\",\"november\"}:\n",
    "    days_in_month = 30\n",
    "elif month_lower == \"feburary\":\n",
    "    days_in_month == 29 if year_type == \"leap\" else 28\n",
    "else:\n",
    "    days_in_month = -1 \n",
    "#print\n",
    "if days_in_month != -1:\n",
    "    print(\"The year {} is a {} year.\".format(year, year_type. capitalize()))\n",
    "    print(\"The month of {} has {} days.\".format(month, days_in_month))\n",
    "else:\n",
    "    print(\"Invalid month:\")\n",
    "    \n"
   ]
  },
  {
   "cell_type": "code",
   "execution_count": 47,
   "id": "6233ad8d-ee2c-447c-988d-1c16a1c85746",
   "metadata": {},
   "outputs": [],
   "source": [
    "# Basic Level: \n"
   ]
  },
  {
   "cell_type": "code",
   "execution_count": 1,
   "id": "031e9fb9-85f3-42eb-a277-be8c6875683f",
   "metadata": {},
   "outputs": [
    {
     "name": "stdin",
     "output_type": "stream",
     "text": [
      "Enter a number: 25\n"
     ]
    },
    {
     "name": "stdout",
     "output_type": "stream",
     "text": [
      "The number is positive.\n"
     ]
    }
   ],
   "source": [
    "#1. Write a Python program that checks if a given number is positive, negative, or zero.\n",
    "num = float(input(\"Enter a number:\"))\n",
    "\n",
    "if num > 0:\n",
    "    print(\"The number is positive.\")\n",
    "elif num < 0:\n",
    "    print(\"The number is negative.\")\n",
    "else:\n",
    "    print(\"The number is zero.\")"
   ]
  },
  {
   "cell_type": "code",
   "execution_count": 3,
   "id": "4dae5278-354a-4cde-8e02-32fc0da7a4a6",
   "metadata": {},
   "outputs": [
    {
     "name": "stdin",
     "output_type": "stream",
     "text": [
      "Enter your age:  67\n"
     ]
    },
    {
     "name": "stdout",
     "output_type": "stream",
     "text": [
      "You are eligible to vote. \n"
     ]
    }
   ],
   "source": [
    "# 2. Create a program to determine if a person is eligible to vote based on their age.\n",
    "age = int(input(\"Enter your age: \"))\n",
    "\n",
    "if age >= 18:\n",
    "    print(\"You are eligible to vote. \")\n",
    "else:\n",
    "    print(\"You are not eligible to vote yet. \")"
   ]
  },
  {
   "cell_type": "code",
   "execution_count": 4,
   "id": "631984e2-2069-4f84-9aa8-0a8a14c9160e",
   "metadata": {},
   "outputs": [
    {
     "name": "stdin",
     "output_type": "stream",
     "text": [
      "Enter the first number:  223\n",
      "Enter the second number:  225\n"
     ]
    },
    {
     "name": "stdout",
     "output_type": "stream",
     "text": [
      "The maximum of 223.0 and 225.0 is: 225.0\n"
     ]
    }
   ],
   "source": [
    "# 3. Write a program to find the maximum of two given numbers using conditional statements.\n",
    "num1 = float(input(\"Enter the first number: \"))\n",
    "num2 = float(input(\"Enter the second number: \"))\n",
    "\n",
    "if num1 > num2:\n",
    "    max_num = num1\n",
    "else:\n",
    "    max_num = num2 \n",
    "    \n",
    "print(\"The maximum of {} and {} is: {}\".format(num1, num2, max_num))"
   ]
  },
  {
   "cell_type": "code",
   "execution_count": 6,
   "id": "0e53c47a-f7ef-4f32-ad0d-e9451a3dbabd",
   "metadata": {},
   "outputs": [
    {
     "name": "stdin",
     "output_type": "stream",
     "text": [
      "Enter the student's score:  95\n"
     ]
    },
    {
     "name": "stdout",
     "output_type": "stream",
     "text": [
      "The student's grade is: A\n"
     ]
    }
   ],
   "source": [
    "# 4. Develop a program that calculates the grade of a student based on their exam score.\n",
    "score = float(input(\"Enter the student's score: \"))\n",
    "# determine the greade\n",
    "if 90 <= score <= 100:\n",
    "    grade = 'A'\n",
    "elif 80 <= score < 90:\n",
    "    grade = 'B'\n",
    "elif 70 <= score < 80:\n",
    "    grade = 'C'\n",
    "    \n",
    "else:\n",
    "    grade = 'invalid socre, please enter a score between a and 100.'\n",
    "    \n",
    "print(\"The student's grade is:\", grade)"
   ]
  },
  {
   "cell_type": "code",
   "execution_count": 7,
   "id": "9ab372e1-36e7-4c63-9100-32b18dcdbfab",
   "metadata": {},
   "outputs": [
    {
     "name": "stdin",
     "output_type": "stream",
     "text": [
      "Enter a year:  1997\n"
     ]
    },
    {
     "name": "stdout",
     "output_type": "stream",
     "text": [
      "1997 is not a leap year. \n"
     ]
    }
   ],
   "source": [
    "# 5. Create a program that checks if a year is a leap year or not.\n",
    "year = int(input(\"Enter a year: \"))\n",
    "#check\n",
    "if (year % 4 == 0 and year % 100 != 0) or (year % 400 == 0):\n",
    "    print(\"{} is a leap year.\".format(year))\n",
    "else:\n",
    "    print(\"{} is not a leap year. \".format(year))"
   ]
  },
  {
   "cell_type": "code",
   "execution_count": 8,
   "id": "59c31bbc-67fe-4e57-87a1-1080fed82b0f",
   "metadata": {},
   "outputs": [
    {
     "name": "stdout",
     "output_type": "stream",
     "text": [
      "The triangle is a isosceles triangle.\n"
     ]
    }
   ],
   "source": [
    "# 6. Write a program to classify a triangle based on its sides' lengths.\n",
    "side1 = 25\n",
    "side2 = 25\n",
    "side3 = 50\n",
    "\n",
    "if side1 == side2 == side3:\n",
    "    triangle_type = \"equilateral\"\n",
    "elif side1 == side2 or side1 == side3 or side2 == side3 :\n",
    "    triangle_type = \"isosceles\"\n",
    "else:\n",
    "    triangle_tyoe = \"scalene\"\n",
    "\n",
    "print(\"The triangle is a {} triangle.\".format(triangle_type))"
   ]
  },
  {
   "cell_type": "code",
   "execution_count": 14,
   "id": "6ad43a72-cb7e-4851-996c-d198c4ed9dfa",
   "metadata": {},
   "outputs": [
    {
     "name": "stdin",
     "output_type": "stream",
     "text": [
      "Enter the first number:  20\n",
      "Enter the second number:  35\n",
      "Enter the third number:  60\n"
     ]
    },
    {
     "name": "stdout",
     "output_type": "stream",
     "text": [
      "The largest number among 20.0, 35.0, and 60.0 is: 60.0\n"
     ]
    }
   ],
   "source": [
    "# 7. Build a program that determines the largest of three given numbers.\n",
    "# Get user input for three numbers\n",
    "num1 = float(input(\"Enter the first number: \"))\n",
    "num2 = float(input(\"Enter the second number: \"))\n",
    "num3 = float(input(\"Enter the third number: \"))\n",
    "\n",
    "# Determine the largest number\n",
    "largest_number = max(num1, num2, num3)\n",
    "\n",
    "# Print the result\n",
    "print(\"The largest number among {}, {}, and {} is: {}\".format(num1, num2, num3, largest_number))\n"
   ]
  },
  {
   "cell_type": "code",
   "execution_count": 18,
   "id": "e77782a7-d1db-41ca-be44-06351673ec01",
   "metadata": {},
   "outputs": [
    {
     "name": "stdin",
     "output_type": "stream",
     "text": [
      "Enter a character:  g\n"
     ]
    },
    {
     "name": "stdout",
     "output_type": "stream",
     "text": [
      "g is a consonant.\n"
     ]
    }
   ],
   "source": [
    "# 8. Develop a program that checks whether a character is a vowel or a consonant.\n",
    "char = input(\"Enter a character: \")\n",
    "#check\n",
    "if char.isalpha()and len(char) == 1:\n",
    "    char_lower = char.lower()\n",
    "    if char_lower in {'a','e','i','o','u'}:\n",
    "        print(\"{} is a vowel.\".format(char))\n",
    "    else:\n",
    "        print(\"{} is a consonant.\".format(char))\n",
    "else:\n",
    "    print(\"Invalid input. please enter a single alphabet character.\")"
   ]
  },
  {
   "cell_type": "code",
   "execution_count": 19,
   "id": "dd44586a-3ed8-4c4d-bef6-1693aa64e58d",
   "metadata": {},
   "outputs": [
    {
     "name": "stdin",
     "output_type": "stream",
     "text": [
      "Enter the number of items in the shopping cart:  2\n",
      "Enter the price of item 1: $ 50\n",
      "Enter the price of item 2: $ 45\n"
     ]
    },
    {
     "name": "stdout",
     "output_type": "stream",
     "text": [
      "Total Cost: $95.00\n",
      "Discount Applied: 5%\n",
      "Discounted Cost: $90.25\n"
     ]
    }
   ],
   "source": [
    "# 9. Create a program to calculate the total cost of a shopping cart based on discounts.\n",
    "\n",
    "# Get user input for the number of items and their prices\n",
    "num_items = int(input(\"Enter the number of items in the shopping cart: \"))\n",
    "\n",
    "# Initialize variables for total cost and discount\n",
    "total_cost = 0.0\n",
    "discount = 0.0\n",
    "\n",
    "# Calculate total cost based on item prices\n",
    "for i in range(num_items):\n",
    "    item_price = float(input(\"Enter the price of item {}: $\".format(i + 1)))\n",
    "    total_cost += item_price\n",
    "\n",
    "# Apply discount based on total cost\n",
    "if total_cost >= 100:\n",
    "    discount = 0.1  # 10% discount for total cost greater than or equal to $100\n",
    "elif total_cost >= 50:\n",
    "    discount = 0.05  # 5% discount for total cost greater than or equal to $50\n",
    "\n",
    "# Calculate the discounted cost\n",
    "discounted_cost = total_cost - (discount * total_cost)\n",
    "\n",
    "# Print the results\n",
    "print(\"Total Cost: ${:.2f}\".format(total_cost))\n",
    "print(\"Discount Applied: {:.0%}\".format(discount))\n",
    "print(\"Discounted Cost: ${:.2f}\".format(discounted_cost))\n"
   ]
  },
  {
   "cell_type": "code",
   "execution_count": 20,
   "id": "ba7ba11a-adfa-44dd-bd16-dd07de7fc66d",
   "metadata": {},
   "outputs": [
    {
     "name": "stdin",
     "output_type": "stream",
     "text": [
      "Enter a number:  25\n"
     ]
    },
    {
     "name": "stdout",
     "output_type": "stream",
     "text": [
      "25 is an odd number.\n"
     ]
    }
   ],
   "source": [
    "#10. Write a program that checks if a given number is even or odd.\n",
    "\n",
    "num = int(input(\"Enter a number: \"))\n",
    "#check\n",
    "if num % 2 == 0:\n",
    "    print(\"{} is an even number.\".format(num))\n",
    "else:\n",
    "    print(\"{} is an odd number.\".format(num))"
   ]
  },
  {
   "cell_type": "code",
   "execution_count": 21,
   "id": "609b7ea8-1e8d-46db-a6e7-b59dd4bef58d",
   "metadata": {},
   "outputs": [],
   "source": [
    "# INTERMEDIATE LEVEL:"
   ]
  },
  {
   "cell_type": "code",
   "execution_count": 25,
   "id": "a79ff5e6-2aa2-485b-ab4b-840d203da50f",
   "metadata": {},
   "outputs": [
    {
     "name": "stdin",
     "output_type": "stream",
     "text": [
      "Enter the coefficient a:  160\n",
      "Enter the coefficient b:  90\n",
      "Enter the coefficient c:  225\n"
     ]
    },
    {
     "name": "stdout",
     "output_type": "stream",
     "text": [
      "Root 1: (-0.28125+1.1520192869479227j)\n",
      "Root 2: (-0.28125-1.1520192869479227j)\n"
     ]
    }
   ],
   "source": [
    "# 11. Write a program that calculates the roots of a quadratic equation .\n",
    "import cmath\n",
    "\n",
    "a = float(input(\"Enter the coefficient a: \"))\n",
    "b = float(input(\"Enter the coefficient b: \"))\n",
    "c = float(input(\"Enter the coefficient c: \"))\n",
    "\n",
    "discriminant = (b**2) - (4 * a * c)\n",
    "#calculations\n",
    "\n",
    "root1 = (-b + cmath.sqrt(discriminant)) / (2 * a)\n",
    "root2 = (-b - cmath.sqrt(discriminant)) / (2 * a)\n",
    "\n",
    "print(\"Root 1:\", root1)\n",
    "print(\"Root 2:\", root2)"
   ]
  },
  {
   "cell_type": "code",
   "execution_count": 26,
   "id": "8d08376e-f3d9-48b5-bce7-8209631020cf",
   "metadata": {},
   "outputs": [
    {
     "name": "stdin",
     "output_type": "stream",
     "text": [
      "Enter the day number (1-7):  6\n"
     ]
    },
    {
     "name": "stdout",
     "output_type": "stream",
     "text": [
      "The day of the week for day number 6 is: Saturday\n"
     ]
    }
   ],
   "source": [
    "# 12. Create a program that determines the day of the week based on the day number (1-7).\n",
    "# Get user input for the day number\n",
    "day_number = int(input(\"Enter the day number (1-7): \"))\n",
    "\n",
    "# Determine the day of the week\n",
    "if day_number == 1:\n",
    "    day_of_week = \"Monday\"\n",
    "elif day_number == 2:\n",
    "    day_of_week = \"Tuesday\"\n",
    "elif day_number == 3:\n",
    "    day_of_week = \"Wednesday\"\n",
    "elif day_number == 4:\n",
    "    day_of_week = \"Thursday\"\n",
    "elif day_number == 5:\n",
    "    day_of_week = \"Friday\"\n",
    "elif day_number == 6:\n",
    "    day_of_week = \"Saturday\"\n",
    "elif day_number == 7:\n",
    "    day_of_week = \"Sunday\"\n",
    "else:\n",
    "    day_of_week = \"Invalid day number, please enter a number between 1 and 7.\"\n",
    "\n",
    "# Print the result\n",
    "print(\"The day of the week for day number {} is: {}\".format(day_number, day_of_week))\n"
   ]
  },
  {
   "cell_type": "code",
   "execution_count": 30,
   "id": "2083bf92-0c35-4c01-9736-95bd531848a2",
   "metadata": {},
   "outputs": [
    {
     "name": "stdin",
     "output_type": "stream",
     "text": [
      "Enter a number to calculate its factorial:  10\n"
     ]
    },
    {
     "name": "stdout",
     "output_type": "stream",
     "text": [
      "The factorial of 10 is: 3628800\n"
     ]
    }
   ],
   "source": [
    "# 13. Develop a program that calculates the factorial of a given number using recursion.\n",
    "\n",
    "def factorial(n):\n",
    "    if n == 0 or n == 1:\n",
    "        return 1\n",
    "    else:\n",
    "        return n * factorial(n - 1)\n",
    "num = int(input(\"Enter a number to calculate its factorial: \"))\n",
    "\n",
    "if num < 0:\n",
    "    print(\"Factorial is undefined for negative numbers.\")\n",
    "else:\n",
    "    result = factorial(num)\n",
    "    print(\"The factorial of {} is: {}\".format(num, result))"
   ]
  },
  {
   "cell_type": "code",
   "execution_count": 31,
   "id": "90ca2c25-8e31-43d9-a130-13627c5b60d1",
   "metadata": {},
   "outputs": [
    {
     "name": "stdin",
     "output_type": "stream",
     "text": [
      "Enter the first number:  23\n",
      "Enter the second number:  435\n",
      "Enter the third number: 567\n"
     ]
    },
    {
     "name": "stdout",
     "output_type": "stream",
     "text": [
      "The largest number among 23.0, 435.0, and 567.0 is: 567.0\n"
     ]
    }
   ],
   "source": [
    "# 14. Write a program to find the largest among three numbers without using the `max()` function.\n",
    "num1 = float(input(\"Enter the first number: \"))\n",
    "num2 = float(input(\"Enter the second number: \"))\n",
    "num3 = float(input(\"Enter the third number:\"))\n",
    "\n",
    "largest = num1 \n",
    "if num2 > largest:\n",
    "    largest = num2\n",
    "if num3 > largest:\n",
    "    largest = num3\n",
    "\n",
    "print(\"The largest number among {}, {}, and {} is: {}\".format(num1, num2, num3, largest))"
   ]
  },
  {
   "cell_type": "code",
   "execution_count": null,
   "id": "5965428d-d64b-401d-9774-97bf06cf5da3",
   "metadata": {},
   "outputs": [
    {
     "name": "stdout",
     "output_type": "stream",
     "text": [
      "\n",
      "ATM Menu:\n",
      "1. Check Balance\n",
      "2. Withdraw Money\n",
      "3. Deposit Money\n",
      "4. Quit\n"
     ]
    },
    {
     "name": "stdin",
     "output_type": "stream",
     "text": [
      "Enter your choice (1-4):  2\n",
      "Enter the amount to withdraw: $ 50\n"
     ]
    },
    {
     "name": "stdout",
     "output_type": "stream",
     "text": [
      "Withdrawal successful. Remaining balance: $950.00\n",
      "\n",
      "ATM Menu:\n",
      "1. Check Balance\n",
      "2. Withdraw Money\n",
      "3. Deposit Money\n",
      "4. Quit\n"
     ]
    }
   ],
   "source": [
    "# 15. Create a program that simulates a basic ATM transaction menu.\n",
    "# Initialize account balance\n",
    "account_balance = 1000.0\n",
    "\n",
    "# Display the ATM menu\n",
    "def display_menu():\n",
    "    print(\"\\nATM Menu:\")\n",
    "    print(\"1. Check Balance\")\n",
    "    print(\"2. Withdraw Money\")\n",
    "    print(\"3. Deposit Money\")\n",
    "    print(\"4. Quit\")\n",
    "\n",
    "# Function to check account balance\n",
    "def check_balance():\n",
    "    print(\"Your account balance is ${:.2f}\".format(account_balance))\n",
    "\n",
    "# Function to withdraw money\n",
    "def withdraw_money():\n",
    "    global account_balance\n",
    "    amount = float(input(\"Enter the amount to withdraw: $\"))\n",
    "    if amount > 0 and amount <= account_balance:\n",
    "        account_balance -= amount\n",
    "        print(\"Withdrawal successful. Remaining balance: ${:.2f}\".format(account_balance))\n",
    "    else:\n",
    "        print(\"Invalid amount or insufficient funds.\")\n",
    "\n",
    "# Function to deposit money\n",
    "def deposit_money():\n",
    "    global account_balance\n",
    "    amount = float(input(\"Enter the amount to deposit: $\"))\n",
    "    if amount > 0:\n",
    "        account_balance += amount\n",
    "        print(\"Deposit successful. Updated balance: ${:.2f}\".format(account_balance))\n",
    "    else:\n",
    "        print(\"Invalid amount.\")\n",
    "\n",
    "# Main program loop\n",
    "while True:\n",
    "    display_menu()\n",
    "    choice = input(\"Enter your choice (1-4): \")\n",
    "\n",
    "    if choice == \"1\":\n",
    "        check_balance()\n",
    "    elif choice == \"2\":\n",
    "        withdraw_money()\n",
    "    elif choice == \"3\":\n",
    "        deposit_money()\n",
    "    elif choice == \"4\":\n",
    "        print(\"Thank you for using the ATM. Goodbye!\")\n",
    "        break\n",
    "    else:\n",
    "        print(\"Invalid choice. Please enter a number between 1 and 4.\")\n"
   ]
  },
  {
   "cell_type": "code",
   "execution_count": 2,
   "id": "11e4effb-edc4-4244-8031-1aa45b3d1374",
   "metadata": {},
   "outputs": [
    {
     "name": "stdin",
     "output_type": "stream",
     "text": [
      "Enter a string:  my name is deepak\n"
     ]
    },
    {
     "name": "stdout",
     "output_type": "stream",
     "text": [
      "The string'my name is deepak' is not a palindrome.\n"
     ]
    }
   ],
   "source": [
    "# 16. Build a program that checks if a given string is a palindrome or not.\n",
    "def is_palindrome(s):\n",
    "    s = s.lower()\n",
    "    s = ''.join(char for char in s if char.isalnum())\n",
    "    return s == s[::-1]\n",
    "\n",
    "input_string = input(\"Enter a string: \")\n",
    "\n",
    "if is_palindrome(input_string):\n",
    "    print(\"The string'{}' is a palindrome.\".format(input_string))\n",
    "else: \n",
    "    print(\"The string'{}' is not a palindrome.\".format(input_string))"
   ]
  },
  {
   "cell_type": "code",
   "execution_count": 1,
   "id": "4964cba0-0d91-40ca-9ff8-fe869992f75b",
   "metadata": {},
   "outputs": [
    {
     "name": "stdin",
     "output_type": "stream",
     "text": [
      "Enter a list of numbers seprated by spaces:  [15, 9, 34, 25, 35]\n"
     ]
    },
    {
     "name": "stdout",
     "output_type": "stream",
     "text": [
      "Invalid input. Please enter numeric valuees.\n"
     ]
    }
   ],
   "source": [
    "#17. Write a program that calculates the average of a list of numbers, excluding the smallest and largest values.\n",
    "def average_without_extremes(numbers):\n",
    "    if len(numbers) < 3:\n",
    "        return \"Not enough numbers to calculate the average.\"\n",
    "    \n",
    "    numbers.sort()\n",
    "    trimmed_numbers = numbers[1: -1]\n",
    "    # calculate\n",
    "    average = sum(trimmed_numbers) / len(trimmed_numbers)\n",
    "    return average\n",
    "try:\n",
    "    num_list = [float(x) for x in input(\"Enter a list of numbers seprated by spaces: \").split()]\n",
    "except ValueError:\n",
    "    print(\"Invalid input. Please enter numeric valuees.\")\n",
    "    exit()"
   ]
  },
  {
   "cell_type": "code",
   "execution_count": 1,
   "id": "53f4d4cf-23d0-436e-a5b8-5f4a75eb257d",
   "metadata": {},
   "outputs": [
    {
     "name": "stdin",
     "output_type": "stream",
     "text": [
      "Enter the temperature in celsius:  34\n"
     ]
    },
    {
     "name": "stdout",
     "output_type": "stream",
     "text": [
      "Temperature in Fahrenheit: 93.20 f\n"
     ]
    }
   ],
   "source": [
    "# 18. Develop a program that converts a given temperature from Celsius to Fahrenheit.\n",
    "def celsius_to_fahrenheit(celsius):\n",
    "    return (celsius * 9/5) + 32\n",
    "try:\n",
    "    celsius_temp = float(input(\"Enter the temperature in celsius: \"))\n",
    "except ValueError:\n",
    "    print(\"Invalid input. Please enter a numeric value for the temperature.\")\n",
    "    exit()\n",
    "    \n",
    "fahrenheit_temp = celsius_to_fahrenheit(celsius_temp)\n",
    "print(\"Temperature in Fahrenheit: {:.2f} f\".format(fahrenheit_temp))"
   ]
  },
  {
   "cell_type": "code",
   "execution_count": null,
   "id": "338b33e7-e5b8-405a-9986-12b6ee55fcb5",
   "metadata": {},
   "outputs": [
    {
     "name": "stdout",
     "output_type": "stream",
     "text": [
      "\n",
      "Calculator Menu:\n",
      "1. Add\n",
      "2. Subtract\n",
      "3. Multiply\n",
      "4. Divide\n",
      "5. Quit\n"
     ]
    },
    {
     "name": "stdin",
     "output_type": "stream",
     "text": [
      "Enter your choice (1-5):  2\n",
      "Enter the first number:  3\n",
      "Enter the second number:  56734435\n"
     ]
    },
    {
     "name": "stdout",
     "output_type": "stream",
     "text": [
      "Result: -56734432.0\n",
      "\n",
      "Calculator Menu:\n",
      "1. Add\n",
      "2. Subtract\n",
      "3. Multiply\n",
      "4. Divide\n",
      "5. Quit\n"
     ]
    },
    {
     "name": "stdin",
     "output_type": "stream",
     "text": [
      "Enter your choice (1-5):  3\n",
      "Enter the first number:  3454234\n",
      "Enter the second number:  2343532\n"
     ]
    },
    {
     "name": "stdout",
     "output_type": "stream",
     "text": [
      "Result: 8095107914488.0\n",
      "\n",
      "Calculator Menu:\n",
      "1. Add\n",
      "2. Subtract\n",
      "3. Multiply\n",
      "4. Divide\n",
      "5. Quit\n"
     ]
    }
   ],
   "source": [
    "# 19. Create a program that simulates a basic calculator for addition, subtraction, multiplication, and division.\n",
    "# Function to add two numbers\n",
    "def add(x, y):\n",
    "    return x + y\n",
    "\n",
    "# Function to subtract two numbers\n",
    "def subtract(x, y):\n",
    "    return x - y\n",
    "\n",
    "# Function to multiply two numbers\n",
    "def multiply(x, y):\n",
    "    return x * y\n",
    "\n",
    "# Function to divide two numbers\n",
    "def divide(x, y):\n",
    "    if y != 0:\n",
    "        return x / y\n",
    "    else:\n",
    "        return \"Cannot divide by zero\"\n",
    "\n",
    "# Display the calculator menu\n",
    "def display_menu():\n",
    "    print(\"\\nCalculator Menu:\")\n",
    "    print(\"1. Add\")\n",
    "    print(\"2. Subtract\")\n",
    "    print(\"3. Multiply\")\n",
    "    print(\"4. Divide\")\n",
    "    print(\"5. Quit\")\n",
    "\n",
    "# Main program loop\n",
    "while True:\n",
    "    display_menu()\n",
    "    choice = input(\"Enter your choice (1-5): \")\n",
    "\n",
    "    if choice == \"5\":\n",
    "        print(\"Thank you for using the calculator. Goodbye!\")\n",
    "        break\n",
    "\n",
    "    try:\n",
    "        num1 = float(input(\"Enter the first number: \"))\n",
    "        num2 = float(input(\"Enter the second number: \"))\n",
    "    except ValueError:\n",
    "        print(\"Invalid input. Please enter numeric values.\")\n",
    "        continue\n",
    "\n",
    "    if choice == \"1\":\n",
    "        result = add(num1, num2)\n",
    "    elif choice == \"2\":\n",
    "        result = subtract(num1, num2)\n",
    "    elif choice == \"3\":\n",
    "        result = multiply(num1, num2)\n",
    "    elif choice == \"4\":\n",
    "        result = divide(num1, num2)\n",
    "    else:\n",
    "        print(\"Invalid choice. Please enter a number between 1 and 5.\")\n",
    "        continue\n",
    "\n",
    "    print(\"Result: {}\".format(result))\n"
   ]
  },
  {
   "cell_type": "code",
   "execution_count": 1,
   "id": "e6db3589-ad28-4690-978d-5e0331f87dd2",
   "metadata": {},
   "outputs": [
    {
     "name": "stdin",
     "output_type": "stream",
     "text": [
      "Enter the coefficient a:  67\n",
      "Enter the coefficient b:  23\n",
      "Enter the coefficient c:  68\n",
      "Enter the coefficient d:  324\n"
     ]
    },
    {
     "name": "stdout",
     "output_type": "stream",
     "text": [
      "Root 1: (-2.22842647827898+0j)\n",
      "Root 2: (0.9425714480947135-1.8307765063915975j)\n",
      "Root 3: (0.9425714480947148+1.8307765063915966j)\n"
     ]
    }
   ],
   "source": [
    "# 20. Write a program that determines the roots of a cubic equation using the Cardano formula.\n",
    "import cmath\n",
    "\n",
    "# Function to calculate the roots of a cubic equation using Cardano formula\n",
    "def cubic_roots(a, b, c, d):\n",
    "    delta0 = b**2 - 3*a*c\n",
    "    delta1 = 2*b**3 - 9*a*b*c + 27*a**2*d\n",
    "    C = (delta1 + cmath.sqrt(delta1**2 - 4*delta0**3)) / 2\n",
    "    u = (C)**(1/3) if C != 0 else 0\n",
    "\n",
    "    if u == 0:\n",
    "        v = 0\n",
    "    else:\n",
    "        v = (-1/2)*(delta1 - cmath.sqrt(delta1**2 - 4*delta0**3)) / (2*u)\n",
    "\n",
    "    root1 = (-1/(3*a)) * (b + u + v)\n",
    "    root2 = (-1/(3*a)) * (b + (u + v)*cmath.exp(complex(0, 2*cmath.pi/3)))\n",
    "    root3 = (-1/(3*a)) * (b + (u + v)*cmath.exp(complex(0, 4*cmath.pi/3)))\n",
    "\n",
    "    return root1, root2, root3\n",
    "\n",
    "# Get user input for the coefficients of the cubic equation\n",
    "try:\n",
    "    a = float(input(\"Enter the coefficient a: \"))\n",
    "    b = float(input(\"Enter the coefficient b: \"))\n",
    "    c = float(input(\"Enter the coefficient c: \"))\n",
    "    d = float(input(\"Enter the coefficient d: \"))\n",
    "except ValueError:\n",
    "    print(\"Invalid input. Please enter numeric values.\")\n",
    "    exit()\n",
    "\n",
    "# Calculate and print the roots of the cubic equation\n",
    "roots = cubic_roots(a, b, c, d)\n",
    "print(\"Root 1:\", roots[0])\n",
    "print(\"Root 2:\", roots[1])\n",
    "print(\"Root 3:\", roots[2])\n"
   ]
  },
  {
   "cell_type": "code",
   "execution_count": 2,
   "id": "9df9dbad-6d81-4203-9815-57d6451e939e",
   "metadata": {},
   "outputs": [],
   "source": [
    "# ADVANCED LEVEL:"
   ]
  },
  {
   "cell_type": "code",
   "execution_count": 6,
   "id": "f867ffb8-99fe-46ff-a0a7-6911984f0c44",
   "metadata": {},
   "outputs": [
    {
     "name": "stdin",
     "output_type": "stream",
     "text": [
      "Enter your annual income: $ 10000\n"
     ]
    },
    {
     "name": "stdout",
     "output_type": "stream",
     "text": [
      "Your income tax is: $1000.00\n"
     ]
    }
   ],
   "source": [
    "# 21. Create a program that calculates the income tax based on the user's income and tax brackets.\n",
    "def calculate_income_tax(income):\n",
    "    # Define tax brackets and corresponding rates\n",
    "    brackets = [10000, 30000, 70000, float('inf')]\n",
    "    rates = [0.1, 0.2, 0.3, 0,4]\n",
    "    # Initialize tax and previous brackets\n",
    "    tax = 0\n",
    "    prev_bracket = 0\n",
    "    \n",
    "    #Calculate tax based on income and tax brackets\n",
    "    for i in range(len(brackets)):\n",
    "        if income <= brackets[i]:\n",
    "            tax += (income - prev_bracket) * rates[i]\n",
    "            break\n",
    "        else:\n",
    "            tax += (brackets[i] - prev_bracket) * rates[i]\n",
    "            prev_bracket = brackets[i]\n",
    "            \n",
    "    return tax\n",
    "try:\n",
    "    income = float(input(\"Enter your annual income: $\"))\n",
    "except ValueError:\n",
    "    print(\"Invalid input. Please enter a numeric value for income. \")\n",
    "    exit ()\n",
    "    \n",
    "    # Calculate\n",
    "income_tax = calculate_income_tax(income)\n",
    "print(\"Your income tax is: ${:.2f}\".format(income_tax))"
   ]
  },
  {
   "cell_type": "code",
   "execution_count": null,
   "id": "ba64d3d1-1a3c-49f6-ae58-7add916d6926",
   "metadata": {},
   "outputs": [
    {
     "name": "stdout",
     "output_type": "stream",
     "text": [
      "Choose one:\n",
      "1. Rock\n",
      "2. Paper\n",
      "3. Scissors\n"
     ]
    },
    {
     "name": "stdin",
     "output_type": "stream",
     "text": [
      "Enter your choice (1-3):  2\n"
     ]
    },
    {
     "name": "stdout",
     "output_type": "stream",
     "text": [
      "Your chouce: 2\n",
      "Computer's choice: 3\n",
      "Computer wins!\n"
     ]
    }
   ],
   "source": [
    "# 22. Write a program that simulates a rock-paper-scissors game against the computer.\n",
    "import random\n",
    "\n",
    "def get_user_choice():\n",
    "    print(\"Choose one:\")\n",
    "    print(\"1. Rock\")\n",
    "    print(\"2. Paper\")\n",
    "    print(\"3. Scissors\")\n",
    "    \n",
    "    try:\n",
    "        choice = int(input(\"Enter your choice (1-3): \"))\n",
    "        if 1 <= choice <= 3:\n",
    "            return choice\n",
    "        else:\n",
    "            print(\"Invalid choice. please enter a number between 1 and 3.\")\n",
    "            return get_user_choice()\n",
    "    except ValurError:\n",
    "        print(\"Invalid input. Please enter a number. \")\n",
    "        return get_user_choice()\n",
    "        \n",
    "def get_computer_choice():\n",
    "    return random.randint(1, 3)\n",
    "# Function to determine the winner\n",
    "def determine_winner(user_choice, computer_choice):\n",
    "    if user_choice == computer_choice:\n",
    "        return \"It's a tie!\"\n",
    "    elif (user_choice == 1 and computer_choice == 3) or \\\n",
    "         (user_choice == 2 and computer_choice == 1) or \\\n",
    "         (user_choice == 3 and computer_Choice == 2):\n",
    "        return \"You Win!\"\n",
    "    else:\n",
    "        return \"Computer wins!\"\n",
    "# Main game loop\n",
    "while True:\n",
    "    user_choice = get_user_choice()\n",
    "    computer_choice = get_computer_choice()\n",
    "    \n",
    "    print(\"Your chouce: {}\".format(user_choice))\n",
    "    print(\"Computer's choice: {}\".format(computer_choice))\n",
    "    \n",
    "    result = determine_winner(user_choice, computer_choice)\n",
    "    print(result)\n",
    "    \n",
    "    play_again = input(\"Do you want to exit game? (yes/no): \").lower()\n",
    "    if play_again != 'yes':\n",
    "        print(\"Thanks for playing. Goodbye!\")\n",
    "        break\n"
   ]
  },
  {
   "cell_type": "code",
   "execution_count": 2,
   "id": "b56b1b78-4ecc-4ff1-a61d-6af6dd9b23e0",
   "metadata": {},
   "outputs": [
    {
     "name": "stdin",
     "output_type": "stream",
     "text": [
      "Enter the desired length of the password:  10\n",
      "Include lowercase letters? (yes/no):  yes\n",
      "Include uppercase letters? (yes/no):  yes\n",
      "Include digits? (yes/no):  yes\n",
      "Include special characters? (yes/no):  no\n"
     ]
    },
    {
     "name": "stdout",
     "output_type": "stream",
     "text": [
      "Generated Password: BiPDf6AtM1\n"
     ]
    }
   ],
   "source": [
    "# 23. Develop a program that generates a random password based on user preferences (length, complexity).\n",
    "\n",
    "import random\n",
    "import string\n",
    "\n",
    "def generate_password(length, include_lowecase, include_uppercase, include_digits, include_special_chars):\n",
    "    chars = \"\"\n",
    "    if include_lowecase:\n",
    "        chars += string.ascii_lowercase\n",
    "    if include_uppercase:\n",
    "        chars += string.ascii_uppercase\n",
    "    if include_digits:\n",
    "        chars += string.digits\n",
    "    if include_special_chars:\n",
    "        chars += string. punctuation\n",
    "    \n",
    "    if not chars:\n",
    "        print(\"Error: No character set selected. please include at least one character set.\")\n",
    "        return None\n",
    "    \n",
    "    password = ''.join(random.choice(chars) for _ in range (length))\n",
    "    return password\n",
    "# get user preferances for password generation\n",
    "try:\n",
    "    length = int(input(\"Enter the desired length of the password: \"))\n",
    "except ValueError:\n",
    "    print(\"Invalid input. Please enter a numeric value for the length. \")\n",
    "    exit ()\n",
    "    \n",
    "include_lowercase = input(\"Include lowercase letters? (yes/no): \").lower() == 'yes'\n",
    "include_uppercase = input(\"Include uppercase letters? (yes/no): \").lower() == 'yes'\n",
    "include_digits = input(\"Include digits? (yes/no): \").lower() == 'yes'\n",
    "include_special_chars = input(\"Include special characters? (yes/no): \").lower() == 'yes'\n",
    "# Generate and print \n",
    "password = generate_password(length, include_lowercase, include_uppercase, include_digits, include_special_chars)\n",
    "\n",
    "if password:\n",
    "    print(\"Generated Password: {}\".format(password))"
   ]
  },
  {
   "cell_type": "code",
   "execution_count": 6,
   "id": "2f6b0078-22c9-4aab-87df-76b9b4b8f56c",
   "metadata": {},
   "outputs": [
    {
     "name": "stdout",
     "output_type": "stream",
     "text": [
      "Welcome to the Adventure Game!\n",
      "You find yourself standing at a crossroads.\n",
      "Each path leads to a different adventure.\n",
      "Your choices will determine your fate.\n",
      "\n",
      "Choose your path:\n",
      "1. Forest\n",
      "2. Cave\n"
     ]
    },
    {
     "name": "stdin",
     "output_type": "stream",
     "text": [
      "Enter the number of your chosen path (1 or 2):  1\n"
     ]
    },
    {
     "name": "stdout",
     "output_type": "stream",
     "text": [
      "\n",
      "You enter a dense forest. \n",
      "As you walk deeper, you encounter a magical creature, \n",
      "1. Approach the creature.\n",
      "2. Ignore the creature and continue walking. \n"
     ]
    },
    {
     "name": "stdin",
     "output_type": "stream",
     "text": [
      "Enter your choice (1 or 2):  1\n"
     ]
    },
    {
     "name": "stdout",
     "output_type": "stream",
     "text": [
      "\n",
      "The creature is friendly and gives you a magical amulet.\n",
      "You gain special powers and continue your journey.\n"
     ]
    },
    {
     "name": "stdin",
     "output_type": "stream",
     "text": [
      "\n",
      "Do you want to play again? (yes/no):  yes\n"
     ]
    },
    {
     "name": "stdout",
     "output_type": "stream",
     "text": [
      "\n",
      "Choose your path:\n",
      "1. Forest\n",
      "2. Cave\n"
     ]
    },
    {
     "name": "stdin",
     "output_type": "stream",
     "text": [
      "Enter the number of your chosen path (1 or 2):  2\n"
     ]
    },
    {
     "name": "stdout",
     "output_type": "stream",
     "text": [
      "\n",
      "You enter a dark cave.\n",
      "You hear mysterious sounds echoing through the cave.\n",
      "1. Explore deeper into the cave.\n",
      "2. Turn back and exit the cave.\n"
     ]
    },
    {
     "name": "stdin",
     "output_type": "stream",
     "text": [
      "Enter your choice (1 or 2):  2\n"
     ]
    },
    {
     "name": "stdout",
     "output_type": "stream",
     "text": [
      "\n",
      "You decide to leave the cave and continue your journey.\n"
     ]
    },
    {
     "name": "stdin",
     "output_type": "stream",
     "text": [
      "\n",
      "Do you want to play again? (yes/no):  no\n"
     ]
    },
    {
     "name": "stdout",
     "output_type": "stream",
     "text": [
      "\n",
      "Thanks for playing the Adventure Game. Goodbye!\n"
     ]
    }
   ],
   "source": [
    "# 24. Create a program that implements a simple text-based adventure game with branching scenarios.\n",
    "import time\n",
    "def introduction():\n",
    "    print(\"Welcome to the Adventure Game!\")\n",
    "    time.sleep(1)\n",
    "    print(\"You find yourself standing at a crossroads.\")\n",
    "    time.sleep(1)\n",
    "    print(\"Each path leads to a different adventure.\")\n",
    "    time.sleep(1)\n",
    "    print(\"Your choices will determine your fate.\")\n",
    "    time.sleep(1)\n",
    "\n",
    "def choose_path():\n",
    "    print(\"\\nChoose your path:\")\n",
    "    print(\"1. Forest\")\n",
    "    print(\"2. Cave\")\n",
    "    choice = input(\"Enter the number of your chosen path (1 or 2): \")\n",
    "    return choice\n",
    "\n",
    "def forest_scenario():\n",
    "    print(\"\\nYou enter a dense forest. \")\n",
    "    time.sleep(1)\n",
    "    print(\"As you walk deeper, you encounter a magical creature, \")\n",
    "    time.sleep(1)\n",
    "    print(\"1. Approach the creature.\")\n",
    "    print(\"2. Ignore the creature and continue walking. \")\n",
    "    \n",
    "    choice = input(\"Enter your choice (1 or 2): \")\n",
    "    if choice == \"1\":\n",
    "        print(\"\\nThe creature is friendly and gives you a magical amulet.\")\n",
    "        time.sleep(1)\n",
    "        print(\"You gain special powers and continue your journey.\")\n",
    "    else:\n",
    "        print(\"\\nThe creature disappears, and you continue walking through the forest.\")\n",
    "\n",
    "def cave_scenario():\n",
    "    print(\"\\nYou enter a dark cave.\")\n",
    "    time.sleep(1)\n",
    "    print(\"You hear mysterious sounds echoing through the cave.\")\n",
    "    time.sleep(1)\n",
    "    print(\"1. Explore deeper into the cave.\")\n",
    "    print(\"2. Turn back and exit the cave.\")\n",
    "    \n",
    "    choice = input(\"Enter your choice (1 or 2): \")\n",
    "    if choice == \"1\":\n",
    "        print(\"\\nYou discover a hidden treasure chest.\")\n",
    "        time.sleep(1)\n",
    "        print(\"Congratulations! You found valuable treasures.\")\n",
    "    else:\n",
    "        print(\"\\nYou decide to leave the cave and continue your journey.\")\n",
    "# Main game loop\n",
    "def main():\n",
    "    introduction()\n",
    "    while True:\n",
    "        path_choice = choose_path()\n",
    "        \n",
    "        if path_choice == \"1\":\n",
    "            forest_scenario()\n",
    "        elif path_choice == \"2\":\n",
    "            cave_scenario()\n",
    "        else:\n",
    "            print(\"\\nInvalid choice. Please enter 1 or 2.\")\n",
    "            \n",
    "        play_again = input(\"\\nDo you want to play again? (yes/no): \").lower()\n",
    "        if play_again != 'yes':\n",
    "            print(\"\\nThanks for playing the Adventure Game. Goodbye!\")\n",
    "            break\n",
    "            \n",
    "if __name__ == \"__main__\":\n",
    "    main()\n",
    "              \n",
    "        \n",
    "    "
   ]
  },
  {
   "cell_type": "code",
   "execution_count": 12,
   "id": "be9008e6-66be-456c-bd7c-d35ba8a982e0",
   "metadata": {},
   "outputs": [
    {
     "name": "stdin",
     "output_type": "stream",
     "text": [
      "Enter the coefficient 'a' in the linear equation (ax + b = 0):  20\n",
      "Enter the coefficient 'b' in the linear equation (ax + b = 0):  40\n"
     ]
    },
    {
     "name": "stdout",
     "output_type": "stream",
     "text": [
      "Solution for x: -2.00\n"
     ]
    }
   ],
   "source": [
    "# 25. Build a program that solves a linear equation  for x, considering different cases.\n",
    "\n",
    "def solve_linear_equation(a, b):\n",
    "    if a == 0:\n",
    "        if b == 0:\n",
    "            return \"Infinite solutions (identity equation)\"\n",
    "        else:\n",
    "            return \"No solution (contradiction)\"\n",
    "    else:\n",
    "        x = -b / a\n",
    "        return \"Solution for x: {:.2f}\".format(x)\n",
    "\n",
    "def main():\n",
    "    try:\n",
    "        a = float(input(\"Enter the coefficient 'a' in the linear equation (ax + b = 0): \"))\n",
    "        b = float(input(\"Enter the coefficient 'b' in the linear equation (ax + b = 0): \"))\n",
    "    except ValueError:\n",
    "        print(\"Invalid input. Please enter numeric values. \")\n",
    "        return\n",
    "    \n",
    "    result = solve_linear_equation(a, b)\n",
    "    print(result)\n",
    "if __name__ == \"__main__\":\n",
    "    main()"
   ]
  },
  {
   "cell_type": "code",
   "execution_count": 2,
   "id": "dc329c0d-b798-4643-9eb0-818c791346ff",
   "metadata": {},
   "outputs": [
    {
     "name": "stdout",
     "output_type": "stream",
     "text": [
      "\n",
      "Question 1:\n",
      "What is the capital of France?\n",
      "1. Berlin\n",
      "2. Paris\n",
      "3. Madrid\n",
      "4. Rome\n"
     ]
    },
    {
     "name": "stdin",
     "output_type": "stream",
     "text": [
      "Enter the number of your answer:  2\n"
     ]
    },
    {
     "name": "stdout",
     "output_type": "stream",
     "text": [
      "Correct!\n",
      "\n",
      "\n",
      "Question 2:\n",
      "Which planet is known as the Red Planet?\n",
      "1. Mars\n",
      "2. Venus\n",
      "3. Jupiter\n",
      "4. Saturn\n"
     ]
    },
    {
     "name": "stdin",
     "output_type": "stream",
     "text": [
      "Enter the number of your answer:  3\n"
     ]
    },
    {
     "name": "stdout",
     "output_type": "stream",
     "text": [
      "Wrong! The correct answer is: Mars\n",
      "\n",
      "\n",
      "Question 3:\n",
      "What is the largest mammal in the world?\n",
      "1. Elephant\n",
      "2. Blue Whale\n",
      "3. Giraffe\n",
      "4. Hippopotamus\n"
     ]
    },
    {
     "name": "stdin",
     "output_type": "stream",
     "text": [
      "Enter the number of your answer:  1\n"
     ]
    },
    {
     "name": "stdout",
     "output_type": "stream",
     "text": [
      "Wrong! The correct answer is: Blue Whale\n",
      "\n",
      "Quiz completed! Your score: 1 out of 3\n"
     ]
    }
   ],
   "source": [
    "#26. Write a program that simulates a basic quiz game with multiple-choice questions and scoring.\n",
    "import time\n",
    "\n",
    "def display_question(question, options):\n",
    "    print(question)\n",
    "    for i, option in enumerate(options, start=1):\n",
    "        print(f\"{i}. {option}\")\n",
    "    try:\n",
    "        user_choice = int(input(\"Enter the number of your answer: \"))\n",
    "        return user_choice\n",
    "    except ValueError:\n",
    "        print(\"Invalid input. Please enter a number.\")\n",
    "        return None\n",
    "\n",
    "def quiz():\n",
    "    questions = [\n",
    "        {\n",
    "            \"question\": \"What is the capital of France?\",\n",
    "            \"options\": [\"Berlin\", \"Paris\", \"Madrid\", \"Rome\"],\n",
    "            \"correct_answer\": 2\n",
    "        },\n",
    "        {\n",
    "            \"question\": \"Which planet is known as the Red Planet?\",\n",
    "            \"options\": [\"Mars\", \"Venus\", \"Jupiter\", \"Saturn\"],\n",
    "            \"correct_answer\": 1\n",
    "        },\n",
    "        {\n",
    "            \"question\": \"What is the largest mammal in the world?\",\n",
    "            \"options\": [\"Elephant\", \"Blue Whale\", \"Giraffe\", \"Hippopotamus\"],\n",
    "            \"correct_answer\": 2\n",
    "        }\n",
    "    ]\n",
    "\n",
    "    score = 0\n",
    "\n",
    "    for i, question_data in enumerate(questions, start=1):\n",
    "        print(f\"\\nQuestion {i}:\")\n",
    "        user_choice = display_question(question_data[\"question\"], question_data[\"options\"])\n",
    "\n",
    "        if user_choice is not None:\n",
    "            if user_choice == question_data[\"correct_answer\"]:\n",
    "                print(\"Correct!\\n\")\n",
    "                score += 1\n",
    "            else:\n",
    "                correct_option = question_data[\"options\"][question_data[\"correct_answer\"] - 1]\n",
    "                print(f\"Wrong! The correct answer is: {correct_option}\\n\")\n",
    "\n",
    "        time.sleep(1)\n",
    "\n",
    "    print(f\"Quiz completed! Your score: {score} out of {len(questions)}\")\n",
    "\n",
    "if __name__ == \"__main__\":\n",
    "    quiz()\n"
   ]
  },
  {
   "cell_type": "code",
   "execution_count": 3,
   "id": "a33c8b79-e587-46e7-9ef1-db84d23edcc3",
   "metadata": {},
   "outputs": [
    {
     "name": "stdin",
     "output_type": "stream",
     "text": [
      "Enter a year to check if it's prime:  2025\n"
     ]
    },
    {
     "name": "stdout",
     "output_type": "stream",
     "text": [
      "2025 is not a prime year.\n"
     ]
    }
   ],
   "source": [
    "# 27. Develop a program that determines whether a given year is a prime number or not.\n",
    "def is_prime(year):\n",
    "    if year < 2:\n",
    "        return False\n",
    "    for i in range(2, int(year**0.5) +1):\n",
    "        if year % i == 0:\n",
    "            return False\n",
    "    return True\n",
    "\n",
    "def main():\n",
    "    try:\n",
    "        year = int(input(\"Enter a year to check if it's prime: \"))\n",
    "    except ValueError:\n",
    "        print(\"Invalid input. Please enter a numeric value. \")\n",
    "        return\n",
    "    \n",
    "    if is_prime(year):\n",
    "        print(f\"{year} is a prime year!\")\n",
    "    else:\n",
    "        print(f\"{year} is not a prime year.\")\n",
    "        \n",
    "if __name__ == \"__main__\":\n",
    "    main()\n",
    "        "
   ]
  },
  {
   "cell_type": "code",
   "execution_count": 4,
   "id": "a983c07b-e4e8-489c-b3f1-6ebc29ddb859",
   "metadata": {},
   "outputs": [
    {
     "name": "stdin",
     "output_type": "stream",
     "text": [
      "Enter the first number:  34\n",
      "Enter the second number:  26\n",
      "Enter the third number:  345\n"
     ]
    },
    {
     "name": "stdout",
     "output_type": "stream",
     "text": [
      "Sorted numbers in ascending order: [26.0, 34.0, 345.0]\n"
     ]
    }
   ],
   "source": [
    "#28. Create a program that sorts three numbers in ascending order using conditional statements.\n",
    "# Get user input for three numbers\n",
    "try:\n",
    "    num1 = float(input(\"Enter the first number: \"))\n",
    "    num2 = float(input(\"Enter the second number: \"))\n",
    "    num3 = float(input(\"Enter the third number: \"))\n",
    "except ValueError:\n",
    "    print(\"Invalid input. Please enter numeric values.\")\n",
    "    exit()\n",
    "\n",
    "# Sort the numbers in ascending order using conditional statements\n",
    "if num1 <= num2 <= num3:\n",
    "    sorted_nums = [num1, num2, num3]\n",
    "elif num1 <= num3 <= num2:\n",
    "    sorted_nums = [num1, num3, num2]\n",
    "elif num2 <= num1 <= num3:\n",
    "    sorted_nums = [num2, num1, num3]\n",
    "elif num2 <= num3 <= num1:\n",
    "    sorted_nums = [num2, num3, num1]\n",
    "elif num3 <= num1 <= num2:\n",
    "    sorted_nums = [num3, num1, num2]\n",
    "else:\n",
    "    sorted_nums = [num3, num2, num1]\n",
    "\n",
    "# Print the sorted numbers\n",
    "print(\"Sorted numbers in ascending order:\", sorted_nums)\n"
   ]
  },
  {
   "cell_type": "code",
   "execution_count": 5,
   "id": "9e70371d-cd53-4cbf-ad1b-194c0cc1634b",
   "metadata": {},
   "outputs": [
    {
     "name": "stdout",
     "output_type": "stream",
     "text": [
      "This program finds an approximate root of a quartic equation (ax^4 + bx^3 + cx^2 + dx + e = 0).\n"
     ]
    },
    {
     "name": "stdin",
     "output_type": "stream",
     "text": [
      "Enter coefficient 'a':  40\n",
      "Enter coefficient 'b':  30\n",
      "Enter coefficient 'c':  50\n",
      "Enter coefficient 'd':  70\n",
      "Enter coefficient 'e':  10\n",
      "Enter an initial guess for the root:  25\n"
     ]
    },
    {
     "name": "stdout",
     "output_type": "stream",
     "text": [
      "Approximate root found: -1.0\n"
     ]
    }
   ],
   "source": [
    "#29. Build a program that determines the roots of a quartic equation using numerical methods.\n",
    "def quartic_equation(x, coefficients):\n",
    "    return sum(c * x**i for i, c in enumerate(coefficients))\n",
    "\n",
    "def derivative_quartic(x, coefficients):\n",
    "    return sum(i * c * x**(i-1) for i, c in enumerate(coefficients) if i > 0)\n",
    "\n",
    "def newton_raphson_quartic(coefficients, initial_guess, tolerance=1e-6, max_iterations=100):\n",
    "    x = initial_guess\n",
    "\n",
    "    for _ in range(max_iterations):\n",
    "        f_x = quartic_equation(x, coefficients)\n",
    "        f_prime_x = derivative_quartic(x, coefficients)\n",
    "\n",
    "        if abs(f_prime_x) < tolerance:\n",
    "            print(\"Derivative is close to zero. Newton-Raphson method may not converge.\")\n",
    "            return None\n",
    "\n",
    "        x -= f_x / f_prime_x\n",
    "\n",
    "        if abs(f_x) < tolerance:\n",
    "            return x\n",
    "\n",
    "    print(\"Newton-Raphson method did not converge within the specified number of iterations.\")\n",
    "    return None\n",
    "\n",
    "def main():\n",
    "    print(\"This program finds an approximate root of a quartic equation (ax^4 + bx^3 + cx^2 + dx + e = 0).\")\n",
    "\n",
    "    try:\n",
    "        a = float(input(\"Enter coefficient 'a': \"))\n",
    "        b = float(input(\"Enter coefficient 'b': \"))\n",
    "        c = float(input(\"Enter coefficient 'c': \"))\n",
    "        d = float(input(\"Enter coefficient 'd': \"))\n",
    "        e = float(input(\"Enter coefficient 'e': \"))\n",
    "    except ValueError:\n",
    "        print(\"Invalid input. Please enter numeric values.\")\n",
    "        return\n",
    "\n",
    "    coefficients = [a, b, c, d, e]\n",
    "\n",
    "    try:\n",
    "        initial_guess = float(input(\"Enter an initial guess for the root: \"))\n",
    "    except ValueError:\n",
    "        print(\"Invalid input for the initial guess. Please enter a numeric value.\")\n",
    "        return\n",
    "\n",
    "    root = newton_raphson_quartic(coefficients, initial_guess)\n",
    "\n",
    "    if root is not None:\n",
    "        print(\"Approximate root found:\", root)\n",
    "\n",
    "if __name__ == \"__main__\":\n",
    "    main()\n"
   ]
  },
  {
   "cell_type": "code",
   "execution_count": 6,
   "id": "d435313b-a668-478c-b7bf-79021d7f89de",
   "metadata": {},
   "outputs": [
    {
     "name": "stdin",
     "output_type": "stream",
     "text": [
      "Enter your weight in kilograms:  50\n",
      "Enter your height in meters:  1.7\n"
     ]
    },
    {
     "name": "stdout",
     "output_type": "stream",
     "text": [
      "\n",
      "BMI Result:\n",
      "Your BMI is 17.30\n",
      "BMI Category: Underweight\n",
      "\n",
      "Health Recommendations:\n",
      "You may need to gain some weight. Consult with a healthcare professional.\n"
     ]
    }
   ],
   "source": [
    "#30. Write a program that calculates the BMI (Body Mass Index) and provides health recommendations based on the user's input.\n",
    "def calculate_bmi(weight, height):\n",
    "    # BMI formula: weight (kg) / (height (m))^2\n",
    "    return weight / (height ** 2)\n",
    "\n",
    "def classify_bmi(bmi):\n",
    "    if bmi < 18.5:\n",
    "        return \"Underweight\"\n",
    "    elif 18.5 <= bmi < 25:\n",
    "        return \"Normal weight\"\n",
    "    elif 25 <= bmi < 30:\n",
    "        return \"Overweight\"\n",
    "    else:\n",
    "        return \"Obese\"\n",
    "\n",
    "def health_recommendations(bmi_category):\n",
    "    if bmi_category == \"Underweight\":\n",
    "        return \"You may need to gain some weight. Consult with a healthcare professional.\"\n",
    "    elif bmi_category == \"Normal weight\":\n",
    "        return \"Congratulations! Maintain a healthy lifestyle with balanced diet and exercise.\"\n",
    "    elif bmi_category == \"Overweight\":\n",
    "        return \"Consider making dietary and lifestyle changes to reach a healthier weight.\"\n",
    "    else:\n",
    "        return \"Obesity can lead to various health issues. Seek advice from a healthcare professional.\"\n",
    "\n",
    "def main():\n",
    "    try:\n",
    "        weight = float(input(\"Enter your weight in kilograms: \"))\n",
    "        height = float(input(\"Enter your height in meters: \"))\n",
    "    except ValueError:\n",
    "        print(\"Invalid input. Please enter numeric values.\")\n",
    "        return\n",
    "\n",
    "    bmi = calculate_bmi(weight, height)\n",
    "    bmi_category = classify_bmi(bmi)\n",
    "\n",
    "    print(\"\\nBMI Result:\")\n",
    "    print(\"Your BMI is {:.2f}\".format(bmi))\n",
    "    print(\"BMI Category: {}\".format(bmi_category))\n",
    "    print(\"\\nHealth Recommendations:\")\n",
    "    print(health_recommendations(bmi_category))\n",
    "\n",
    "if __name__ == \"__main__\":\n",
    "    main()\n"
   ]
  },
  {
   "cell_type": "code",
   "execution_count": 7,
   "id": "bf3f163b-f59c-487e-9e10-27314f689b58",
   "metadata": {},
   "outputs": [],
   "source": [
    "# CHALLANGE LEVEL:\n"
   ]
  },
  {
   "cell_type": "code",
   "execution_count": 10,
   "id": "5daf20a1-33f4-4b06-9af8-08dbb6ab2478",
   "metadata": {},
   "outputs": [
    {
     "name": "stdin",
     "output_type": "stream",
     "text": [
      "Enter your password:  mAnish@!3324\n"
     ]
    },
    {
     "name": "stdout",
     "output_type": "stream",
     "text": [
      "Password is valid.\n"
     ]
    }
   ],
   "source": [
    "# 31. Create a program that validates a password based on complexity rules (length, characters, etc.).\n",
    "import re\n",
    "\n",
    "def is_valid_password(password):\n",
    "    # Minimum length\n",
    "    if len(password) < 8:\n",
    "        return False\n",
    "\n",
    "    # At least one uppercase letter\n",
    "    if not any(char.isupper() for char in password):\n",
    "        return False\n",
    "\n",
    "    # At least one lowercase letter\n",
    "    if not any(char.islower() for char in password):\n",
    "        return False\n",
    "\n",
    "    # At least one digit\n",
    "    if not any(char.isdigit() for char in password):\n",
    "        return False\n",
    "\n",
    "    # At least one special character\n",
    "    if not re.search(r\"[!@#$%^&*(),.?\\\":{}|<>]\", password):\n",
    "        return False\n",
    "\n",
    "    # Password meets all criteria\n",
    "    return True\n",
    "\n",
    "def main():\n",
    "    password = input(\"Enter your password: \")\n",
    "\n",
    "    if is_valid_password(password):\n",
    "        print(\"Password is valid.\")\n",
    "    else:\n",
    "        print(\"Password is invalid. Please follow the complexity rules.\")\n",
    "\n",
    "if __name__ == \"__main__\":\n",
    "    main()\n"
   ]
  },
  {
   "cell_type": "code",
   "execution_count": 1,
   "id": "3de41a03-f26f-448a-b4d1-0536369ec51c",
   "metadata": {},
   "outputs": [
    {
     "name": "stdout",
     "output_type": "stream",
     "text": [
      "Matrix Addition and Subtraction Program\n",
      "\n",
      "Enter Matrix A:\n"
     ]
    },
    {
     "name": "stdin",
     "output_type": "stream",
     "text": [
      "Enter the number of rows:  3\n",
      "Enter the number of columns:  3\n",
      "Enter element at position (1,1):  23\n",
      "Enter element at position (1,2):  23\n",
      "Enter element at position (1,3):  45\n",
      "Enter element at position (2,1):  45\n",
      "Enter element at position (2,2):  23\n",
      "Enter element at position (2,3):  57\n",
      "Enter element at position (3,1):  23\n",
      "Enter element at position (3,2):  56\n",
      "Enter element at position (3,3):  89\n"
     ]
    },
    {
     "name": "stdout",
     "output_type": "stream",
     "text": [
      "\n",
      "Matrix A:\n",
      "[23.0, 23.0, 45.0]\n",
      "[45.0, 23.0, 57.0]\n",
      "[23.0, 56.0, 89.0]\n",
      "\n",
      "Enter Matrix B:\n"
     ]
    },
    {
     "name": "stdin",
     "output_type": "stream",
     "text": [
      "Enter the number of rows:  3\n",
      "Enter the number of columns:  3\n",
      "Enter element at position (1,1):  2\n",
      "Enter element at position (1,2):  12\n",
      "Enter element at position (1,3):  34\n",
      "Enter element at position (2,1):  23\n",
      "Enter element at position (2,2):  56\n",
      "Enter element at position (2,3):  23\n",
      "Enter element at position (3,1):  32\n",
      "Enter element at position (3,2):  23\n",
      "Enter element at position (3,3):  45\n"
     ]
    },
    {
     "name": "stdout",
     "output_type": "stream",
     "text": [
      "\n",
      "Matrix B:\n",
      "[2.0, 12.0, 34.0]\n",
      "[23.0, 56.0, 23.0]\n",
      "[32.0, 23.0, 45.0]\n",
      "\n",
      "Matrix Addition (A + B):\n",
      "\n",
      "Matrix A + B:\n",
      "[25.0, 35.0, 79.0]\n",
      "[68.0, 79.0, 80.0]\n",
      "[55.0, 79.0, 134.0]\n",
      "\n",
      "Matrix Subtraction (A - B):\n",
      "\n",
      "Matrix A - B:\n",
      "[21.0, 11.0, 11.0]\n",
      "[22.0, -33.0, 34.0]\n",
      "[-9.0, 33.0, 44.0]\n"
     ]
    }
   ],
   "source": [
    "# 32. Develop a program that performs matrix addition and subtraction based on user input.\n",
    "def matrix_addition(matrix1, matrix2):\n",
    "    result = [[matrix1[i][j] + matrix2[i][j] for j in range(len(matrix1[0]))] for i in range(len(matrix1))]\n",
    "    return result\n",
    "\n",
    "def matrix_subtraction(matrix1, matrix2):\n",
    "    result = [[matrix1[i][j] - matrix2[i][j] for j in range(len(matrix1[0]))] for i in range(len(matrix1))]\n",
    "    return result\n",
    "\n",
    "def input_matrix():\n",
    "    rows = int(input(\"Enter the number of rows: \"))\n",
    "    columns = int(input(\"Enter the number of columns: \"))\n",
    "\n",
    "    matrix = []\n",
    "    for i in range(rows):\n",
    "        row = [float(input(f\"Enter element at position ({i+1},{j+1}): \")) for j in range(columns)]\n",
    "        matrix.append(row)\n",
    "\n",
    "    return matrix\n",
    "\n",
    "def display_matrix(matrix, label):\n",
    "    print(f\"\\nMatrix {label}:\")\n",
    "    for row in matrix:\n",
    "        print(row)\n",
    "\n",
    "def main():\n",
    "    print(\"Matrix Addition and Subtraction Program\")\n",
    "\n",
    "    print(\"\\nEnter Matrix A:\")\n",
    "    matrix_a = input_matrix()\n",
    "    display_matrix(matrix_a, 'A')\n",
    "\n",
    "    print(\"\\nEnter Matrix B:\")\n",
    "    matrix_b = input_matrix()\n",
    "    display_matrix(matrix_b, 'B')\n",
    "\n",
    "    add_result = matrix_addition(matrix_a, matrix_b)\n",
    "    sub_result = matrix_subtraction(matrix_a, matrix_b)\n",
    "\n",
    "    print(\"\\nMatrix Addition (A + B):\")\n",
    "    display_matrix(add_result, 'A + B')\n",
    "\n",
    "    print(\"\\nMatrix Subtraction (A - B):\")\n",
    "    display_matrix(sub_result, 'A - B')\n",
    "\n",
    "if __name__ == \"__main__\":\n",
    "    main()\n"
   ]
  },
  {
   "cell_type": "code",
   "execution_count": 1,
   "id": "29c0c7b4-6f0f-4433-9731-ec50d6255051",
   "metadata": {},
   "outputs": [
    {
     "name": "stdin",
     "output_type": "stream",
     "text": [
      "Enter the first number:  34\n",
      "Enter the second number:  25\n"
     ]
    },
    {
     "name": "stdout",
     "output_type": "stream",
     "text": [
      "The GCD of 34 and 25 is: 1\n"
     ]
    }
   ],
   "source": [
    "# 33. Write a program that calculates the greatest common divisor (GCD) of two numbers using the Euclidean algorithm\n",
    "def euclidean_algorithm(a, b):\n",
    "    while b:\n",
    "        a, b = b, a % b\n",
    "    return a\n",
    "\n",
    "def main():\n",
    "    try:\n",
    "        num1 = int(input(\"Enter the first number: \"))\n",
    "        num2 = int(input(\"Enter the second number: \"))\n",
    "    except ValueError:\n",
    "        print(\"Invalid input. Please enter integer values.\")\n",
    "        return\n",
    "\n",
    "    if num1 < 0 or num2 < 0:\n",
    "        print(\"Please enter non-negative numbers.\")\n",
    "        return\n",
    "\n",
    "    gcd = euclidean_algorithm(num1, num2)\n",
    "    print(f\"The GCD of {num1} and {num2} is: {gcd}\")\n",
    "\n",
    "if __name__ == \"__main__\":\n",
    "    main()\n"
   ]
  },
  {
   "cell_type": "code",
   "execution_count": 2,
   "id": "23cbe6b7-8353-420f-926b-24c48ca6f4b4",
   "metadata": {},
   "outputs": [
    {
     "name": "stdout",
     "output_type": "stream",
     "text": [
      "Matrix Multiplication Program\n"
     ]
    },
    {
     "name": "stdin",
     "output_type": "stream",
     "text": [
      "Enter the number of rows for Matrix A:  2\n",
      "Enter the number of columns for Matrix A:  2\n",
      "Enter element at position (1,1):  3\n",
      "Enter element at position (1,2):  4\n",
      "Enter element at position (2,1):  5\n",
      "Enter element at position (2,2):  6\n"
     ]
    },
    {
     "name": "stdout",
     "output_type": "stream",
     "text": [
      "\n",
      "Matrix A:\n",
      "[3.0, 4.0]\n",
      "[5.0, 6.0]\n"
     ]
    },
    {
     "name": "stdin",
     "output_type": "stream",
     "text": [
      "Enter the number of rows for Matrix B:  2\n",
      "Enter the number of columns for Matrix B:  1\n",
      "Enter element at position (1,1):  3\n",
      "Enter element at position (2,1):  4\n"
     ]
    },
    {
     "name": "stdout",
     "output_type": "stream",
     "text": [
      "\n",
      "Matrix B:\n",
      "[3.0]\n",
      "[4.0]\n",
      "\n",
      "Matrix Multiplication (A * B):\n",
      "\n",
      "Matrix A * B:\n",
      "[25.0]\n",
      "[39.0]\n"
     ]
    }
   ],
   "source": [
    "# 34. Build a program that performs matrix multiplication using nested loops and conditional statements.\n",
    "\n",
    "def matrix_multiplication(matrix1, matrix2):\n",
    "    rows1, cols1 = len(matrix1), len(matrix1[0])\n",
    "    rows2, cols2 = len(matrix2), len(matrix2[0])\n",
    "\n",
    "    if cols1 != rows2:\n",
    "        print(\"Matrix multiplication is not possible. The number of columns in the first matrix must be equal to the number of rows in the second matrix.\")\n",
    "        return None\n",
    "\n",
    "    result = [[0 for _ in range(cols2)] for _ in range(rows1)]\n",
    "\n",
    "    for i in range(rows1):\n",
    "        for j in range(cols2):\n",
    "            for k in range(cols1):\n",
    "                result[i][j] += matrix1[i][k] * matrix2[k][j]\n",
    "\n",
    "    return result\n",
    "\n",
    "def input_matrix(label):\n",
    "    rows = int(input(f\"Enter the number of rows for Matrix {label}: \"))\n",
    "    cols = int(input(f\"Enter the number of columns for Matrix {label}: \"))\n",
    "\n",
    "    matrix = []\n",
    "    for i in range(rows):\n",
    "        row = [float(input(f\"Enter element at position ({i+1},{j+1}): \")) for j in range(cols)]\n",
    "        matrix.append(row)\n",
    "\n",
    "    return matrix\n",
    "\n",
    "def display_matrix(matrix, label):\n",
    "    print(f\"\\nMatrix {label}:\")\n",
    "    for row in matrix:\n",
    "        print(row)\n",
    "\n",
    "def main():\n",
    "    print(\"Matrix Multiplication Program\")\n",
    "\n",
    "    matrix_a = input_matrix('A')\n",
    "    display_matrix(matrix_a, 'A')\n",
    "\n",
    "    matrix_b = input_matrix('B')\n",
    "    display_matrix(matrix_b, 'B')\n",
    "\n",
    "    result = matrix_multiplication(matrix_a, matrix_b)\n",
    "\n",
    "    if result:\n",
    "        print(\"\\nMatrix Multiplication (A * B):\")\n",
    "        display_matrix(result, 'A * B')\n",
    "\n",
    "if __name__ == \"__main__\":\n",
    "    main()\n"
   ]
  },
  {
   "cell_type": "code",
   "execution_count": null,
   "id": "1685f366-8e93-49cd-b18d-8b960e0b451c",
   "metadata": {},
   "outputs": [
    {
     "name": "stdout",
     "output_type": "stream",
     "text": [
      "Welcome to Tic-Tac-Toe!\n",
      "  |   |  \n",
      "-----\n",
      "  |   |  \n",
      "-----\n",
      "  |   |  \n",
      "-----\n"
     ]
    },
    {
     "name": "stdin",
     "output_type": "stream",
     "text": [
      "Enter the row (1, 2, or 3):  2\n",
      "Enter the column (1, 2, or 3):  2\n"
     ]
    },
    {
     "name": "stdout",
     "output_type": "stream",
     "text": [
      "  |   |  \n",
      "-----\n",
      "  | X |  \n",
      "-----\n",
      "  |   |  \n",
      "-----\n",
      "Computer's move:\n",
      "  |   |  \n",
      "-----\n",
      "  | X |  \n",
      "-----\n",
      "O |   |  \n",
      "-----\n"
     ]
    },
    {
     "name": "stdin",
     "output_type": "stream",
     "text": [
      "Enter the row (1, 2, or 3):  3\n",
      "Enter the column (1, 2, or 3):  3\n"
     ]
    },
    {
     "name": "stdout",
     "output_type": "stream",
     "text": [
      "  |   |  \n",
      "-----\n",
      "  | X |  \n",
      "-----\n",
      "O |   | X\n",
      "-----\n",
      "Computer's move:\n",
      "  | O |  \n",
      "-----\n",
      "  | X |  \n",
      "-----\n",
      "O |   | X\n",
      "-----\n"
     ]
    },
    {
     "name": "stdin",
     "output_type": "stream",
     "text": [
      "Enter the row (1, 2, or 3):  2\n",
      "Enter the column (1, 2, or 3):  3\n"
     ]
    },
    {
     "name": "stdout",
     "output_type": "stream",
     "text": [
      "  | O |  \n",
      "-----\n",
      "  | X | X\n",
      "-----\n",
      "O |   | X\n",
      "-----\n",
      "Computer's move:\n",
      "  | O |  \n",
      "-----\n",
      "  | X | X\n",
      "-----\n",
      "O | O | X\n",
      "-----\n"
     ]
    },
    {
     "name": "stdin",
     "output_type": "stream",
     "text": [
      "Enter the row (1, 2, or 3):  2\n",
      "Enter the column (1, 2, or 3):  2\n"
     ]
    },
    {
     "name": "stdout",
     "output_type": "stream",
     "text": [
      "Invalid move. Try again.\n"
     ]
    }
   ],
   "source": [
    "# 35. Create a program that simulates a basic text-based tic-tac-toe game against the computer.\n",
    "import random\n",
    "\n",
    "def print_board(board):\n",
    "    for row in board:\n",
    "        print(\" | \".join(row))\n",
    "        print(\"-\" * 5)\n",
    "\n",
    "def check_winner(board, player):\n",
    "    # Check rows, columns, and diagonals\n",
    "    for i in range(3):\n",
    "        if all(cell == player for cell in board[i]) or all(board[j][i] == player for j in range(3)):\n",
    "            return True\n",
    "    if all(board[i][i] == player for i in range(3)) or all(board[i][2 - i] == player for i in range(3)):\n",
    "        return True\n",
    "    return False\n",
    "\n",
    "def is_board_full(board):\n",
    "    return all(cell != ' ' for row in board for cell in row)\n",
    "\n",
    "def player_move(board):\n",
    "    while True:\n",
    "        try:\n",
    "            row = int(input(\"Enter the row (1, 2, or 3): \")) - 1\n",
    "            col = int(input(\"Enter the column (1, 2, or 3): \")) - 1\n",
    "            if 0 <= row < 3 and 0 <= col < 3 and board[row][col] == ' ':\n",
    "                return row, col\n",
    "            else:\n",
    "                print(\"Invalid move. Try again.\")\n",
    "        except ValueError:\n",
    "            print(\"Invalid input. Please enter a number.\")\n",
    "\n",
    "def computer_move(board):\n",
    "    empty_cells = [(i, j) for i in range(3) for j in range(3) if board[i][j] == ' ']\n",
    "    return random.choice(empty_cells)\n",
    "\n",
    "def play_game():\n",
    "    board = [[' ' for _ in range(3)] for _ in range(3)]\n",
    "    player_symbol = 'X'\n",
    "    computer_symbol = 'O'\n",
    "\n",
    "    print(\"Welcome to Tic-Tac-Toe!\")\n",
    "    print_board(board)\n",
    "\n",
    "    while True:\n",
    "        # Player's move\n",
    "        player_row, player_col = player_move(board)\n",
    "        board[player_row][player_col] = player_symbol\n",
    "        print_board(board)\n",
    "\n",
    "        # Check if the player wins\n",
    "        if check_winner(board, player_symbol):\n",
    "            print(\"Congratulations! You win!\")\n",
    "            break\n",
    "\n",
    "        # Check for a tie\n",
    "        if is_board_full(board):\n",
    "            print(\"It's a tie!\")\n",
    "            break\n",
    "\n",
    "        # Computer's move\n",
    "        print(\"Computer's move:\")\n",
    "        computer_row, computer_col = computer_move(board)\n",
    "        board[computer_row][computer_col] = computer_symbol\n",
    "        print_board(board)\n",
    "\n",
    "        # Check if the computer wins\n",
    "        if check_winner(board, computer_symbol):\n",
    "            print(\"Computer wins! Better luck next time.\")\n",
    "            break\n",
    "\n",
    "        # Check for a tie again\n",
    "        if is_board_full(board):\n",
    "            print(\"It's a tie!\")\n",
    "            break\n",
    "\n",
    "if __name__ == \"__main__\":\n",
    "    play_game()\n"
   ]
  },
  {
   "cell_type": "code",
   "execution_count": 4,
   "id": "b628bfd9-ec5a-4bb1-b669-5e249cca9b97",
   "metadata": {},
   "outputs": [
    {
     "name": "stdin",
     "output_type": "stream",
     "text": [
      "Enter the number of terms for the Fibonacci sequences:  5\n"
     ]
    },
    {
     "name": "stdout",
     "output_type": "stream",
     "text": [
      "\n",
      "Fibonacci Sequence:\n",
      "[0, 1, 1, 2, 3]\n"
     ]
    }
   ],
   "source": [
    "# 36. Write a program that generates Fibonacci numbers up to a specified term using iterative methods.\n",
    "def generate_fibonacci(n):\n",
    "    fibonacci_sequence = [0, 1]\n",
    "    \n",
    "    for i in range(2, n):\n",
    "        next_term = fibonacci_sequence[i - 1] + fibonacci_sequence[i -2]\n",
    "        fibonacci_sequence.append(next_term)\n",
    "    return fibonacci_sequence\n",
    "def main():\n",
    "    try:\n",
    "        n = int(input(\"Enter the number of terms for the Fibonacci sequences: \"))\n",
    "        if n < 0:\n",
    "            print(\"Please enter a non-negative integer. \")\n",
    "            return\n",
    "    except ValueError:\n",
    "        print(\"Invalid input. Please enter a valid integer.\")\n",
    "        return\n",
    "    fibonacci_sequence = generate_fibonacci(n)\n",
    "    \n",
    "    print(\"\\nFibonacci Sequence:\")\n",
    "    print(fibonacci_sequence)\n",
    "if __name__ == \"__main__\":\n",
    "    main()"
   ]
  },
  {
   "cell_type": "code",
   "execution_count": 5,
   "id": "9a34b00a-4743-438f-9763-7b659bc7909d",
   "metadata": {},
   "outputs": [
    {
     "name": "stdin",
     "output_type": "stream",
     "text": [
      "Enter the value of n to find the nth Fibonacci number:  20\n"
     ]
    },
    {
     "name": "stdout",
     "output_type": "stream",
     "text": [
      "The 20th Fibonacci number is: 4181\n"
     ]
    }
   ],
   "source": [
    "# 37. Develop a program that calculates the nth term of the Fibonacci sequence using memoization.\n",
    "def fibonacci_with_memoization(n, memo={}):\n",
    "    if n <= 0:\n",
    "        return \"Please enter a positive integer for n.\"\n",
    "    elif n == 1:\n",
    "        return 0\n",
    "    elif n == 2:\n",
    "        return 1\n",
    "    elif n in memo:\n",
    "        return memo[n]\n",
    "    else:\n",
    "        result = fibonacci_with_memoization(n - 1, memo) + fibonacci_with_memoization(n - 2, memo)\n",
    "        memo[n] = result\n",
    "        return result\n",
    "\n",
    "def main():\n",
    "    try:\n",
    "        n = int(input(\"Enter the value of n to find the nth Fibonacci number: \"))\n",
    "        result = fibonacci_with_memoization(n)\n",
    "        print(f\"The {n}th Fibonacci number is: {result}\")\n",
    "    except ValueError:\n",
    "        print(\"Invalid input. Please enter a valid integer.\")\n",
    "\n",
    "if __name__ == \"__main__\":\n",
    "    main()\n"
   ]
  },
  {
   "cell_type": "code",
   "execution_count": 9,
   "id": "71713636-823b-4292-bc78-db936d791277",
   "metadata": {},
   "outputs": [
    {
     "name": "stdin",
     "output_type": "stream",
     "text": [
      "Enter the year:  1997\n",
      "Enter the month (1-12):  8\n"
     ]
    },
    {
     "name": "stdout",
     "output_type": "stream",
     "text": [
      "    August 1997     \n",
      "Mo Tu We Th Fr Sa Su\n",
      "             1  2  3\n",
      " 4  5  6  7  8  9 10\n",
      "11 12 13 14 15 16 17\n",
      "18 19 20 21 22 23 24\n",
      "25 26 27 28 29 30 31\n"
     ]
    }
   ],
   "source": [
    "#38. Create a program that generates a calendar for a given month and year using conditional statements.\n",
    "import calendar\n",
    "\n",
    "def generate_calendar(year, month):\n",
    "    cal = calendar.monthcalendar(year, month)\n",
    "    header = calendar.month_name[month] + \" \" + str(year)\n",
    "\n",
    "    print(header.center(20))\n",
    "    print(\"Mo Tu We Th Fr Sa Su\")\n",
    "\n",
    "    for week in cal:\n",
    "        week_str = \"\"\n",
    "        for day in week:\n",
    "            if day == 0:\n",
    "                week_str += \"   \"\n",
    "            else:\n",
    "                week_str += f\"{day:2d} \"\n",
    "        print(week_str.rstrip())\n",
    "\n",
    "def main():\n",
    "    try:\n",
    "        year = int(input(\"Enter the year: \"))\n",
    "        month = int(input(\"Enter the month (1-12): \"))\n",
    "        if not (1 <= month <= 12):\n",
    "            print(\"Invalid month. Please enter a month between 1 and 12.\")\n",
    "            return\n",
    "    except ValueError:\n",
    "        print(\"Invalid input. Please enter valid integers.\")\n",
    "        return\n",
    "\n",
    "    generate_calendar(year, month)\n",
    "\n",
    "if __name__ == \"__main__\":\n",
    "    main()\n"
   ]
  },
  {
   "cell_type": "code",
   "execution_count": 11,
   "id": "a7dbe648-fd7f-44ae-9dc7-c988c7b9be9d",
   "metadata": {},
   "outputs": [
    {
     "name": "stdout",
     "output_type": "stream",
     "text": [
      "Your cards: [4, 10], current score: 14\n",
      "Computer's first card: 7\n"
     ]
    },
    {
     "name": "stdin",
     "output_type": "stream",
     "text": [
      "Type 'y' to get another card, 'n' to pass:  n\n"
     ]
    },
    {
     "name": "stdout",
     "output_type": "stream",
     "text": [
      "Your final hand: [4, 10], final score: 14\n",
      "Computer's final hand: [7, 9, 10], final score: 26\n",
      "Computer went over 21. You win!\n"
     ]
    }
   ],
   "source": [
    "# 39. Build a program that simulates a basic text-based blackjack game against the computer.\n",
    "\n",
    "import random\n",
    "\n",
    "def deal_card():\n",
    "    \"\"\"Return a random card from the deck.\"\"\"\n",
    "    cards = [11, 2, 3, 4, 5, 6, 7, 8, 9, 10, 10, 10, 10]\n",
    "    return random.choice(cards)\n",
    "\n",
    "def calculate_score(cards):\n",
    "    \"\"\"Calculate the total value of a hand of cards.\"\"\"\n",
    "    if sum(cards) == 21 and len(cards) == 2:\n",
    "        return 0  # Blackjack\n",
    "    if 11 in cards and sum(cards) > 21:\n",
    "        cards.remove(11)\n",
    "        cards.append(1)\n",
    "    return sum(cards)\n",
    "\n",
    "def compare(user_score, computer_score):\n",
    "    \"\"\"Compare the user and computer scores to determine the winner.\"\"\"\n",
    "    if user_score == computer_score:\n",
    "        return \"It's a draw!\"\n",
    "    elif computer_score == 0:\n",
    "        return \"Computer has Blackjack. You lose!\"\n",
    "    elif user_score == 0:\n",
    "        return \"Blackjack! You win!\"\n",
    "    elif user_score > 21:\n",
    "        return \"Bust! You went over 21. You lose!\"\n",
    "    elif computer_score > 21:\n",
    "        return \"Computer went over 21. You win!\"\n",
    "    elif user_score > computer_score:\n",
    "        return \"You win!\"\n",
    "    else:\n",
    "        return \"You lose!\"\n",
    "\n",
    "def play_game():\n",
    "    user_cards = []\n",
    "    computer_cards = []\n",
    "    game_over = False\n",
    "\n",
    "    for _ in range(2):\n",
    "        user_cards.append(deal_card())\n",
    "        computer_cards.append(deal_card())\n",
    "\n",
    "    while not game_over:\n",
    "        user_score = calculate_score(user_cards)\n",
    "        computer_score = calculate_score(computer_cards)\n",
    "\n",
    "        print(f\"Your cards: {user_cards}, current score: {user_score}\")\n",
    "        print(f\"Computer's first card: {computer_cards[0]}\")\n",
    "\n",
    "        if user_score == 0 or computer_score == 0 or user_score > 21:\n",
    "            game_over = True\n",
    "        else:\n",
    "            should_continue = input(\"Type 'y' to get another card, 'n' to pass: \").lower()\n",
    "            if should_continue == 'y':\n",
    "                user_cards.append(deal_card())\n",
    "            else:\n",
    "                game_over = True\n",
    "\n",
    "    while computer_score != 0 and computer_score < 17:\n",
    "        computer_cards.append(deal_card())\n",
    "        computer_score = calculate_score(computer_cards)\n",
    "\n",
    "    print(f\"Your final hand: {user_cards}, final score: {user_score}\")\n",
    "    print(f\"Computer's final hand: {computer_cards}, final score: {computer_score}\")\n",
    "    print(compare(user_score, computer_score))\n",
    "\n",
    "if __name__ == \"__main__\":\n",
    "    play_game()\n"
   ]
  },
  {
   "cell_type": "code",
   "execution_count": 12,
   "id": "5f8f9c36-23d2-47f1-ab77-5b29fb68c17e",
   "metadata": {},
   "outputs": [
    {
     "name": "stdin",
     "output_type": "stream",
     "text": [
      "Enter a number to find its prime factors:  60\n"
     ]
    },
    {
     "name": "stdout",
     "output_type": "stream",
     "text": [
      "The prime factors of 60 are: [2, 2, 3, 5]\n"
     ]
    }
   ],
   "source": [
    "# 40. Write a program that generates the prime factors of a given number using trial division.\n",
    "def generate_prime_factors(number):\n",
    "    prime_factors = []\n",
    "    divisor = 2\n",
    "    \n",
    "    while number > 1:\n",
    "        while number % divisor == 0:\n",
    "            prime_factors.append(divisor)\n",
    "            number/= divisor\n",
    "        divisor += 1\n",
    "        \n",
    "    return prime_factors\n",
    "\n",
    "def main():\n",
    "    try:\n",
    "        number = int(input(\"Enter a number to find its prime factors: \"))\n",
    "        if number < 2:\n",
    "            print(\"Please enter a number greater than or eqyal to 2. \")\n",
    "        else:\n",
    "            factors = generate_prime_factors(number)\n",
    "            print(f\"The prime factors of {number} are: {factors}\")\n",
    "    except ValueError:\n",
    "        print(\"Invalid input. Please enter a valid integer.\")\n",
    "        \n",
    "if __name__ == \"__main__\":\n",
    "    main()\n",
    "        "
   ]
  },
  {
   "cell_type": "code",
   "execution_count": null,
   "id": "42aed376-b81a-4fc2-88ba-dd625747b123",
   "metadata": {},
   "outputs": [],
   "source": []
  }
 ],
 "metadata": {
  "kernelspec": {
   "display_name": "Python 3 (ipykernel)",
   "language": "python",
   "name": "python3"
  },
  "language_info": {
   "codemirror_mode": {
    "name": "ipython",
    "version": 3
   },
   "file_extension": ".py",
   "mimetype": "text/x-python",
   "name": "python",
   "nbconvert_exporter": "python",
   "pygments_lexer": "ipython3",
   "version": "3.10.8"
  }
 },
 "nbformat": 4,
 "nbformat_minor": 5
}
